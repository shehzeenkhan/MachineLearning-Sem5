{
  "nbformat": 4,
  "nbformat_minor": 5,
  "metadata": {
    "kernelspec": {
      "display_name": "Python 3",
      "language": "python",
      "name": "python3"
    },
    "language_info": {
      "codemirror_mode": {
        "name": "ipython",
        "version": 3
      },
      "file_extension": ".py",
      "mimetype": "text/x-python",
      "name": "python",
      "nbconvert_exporter": "python",
      "pygments_lexer": "ipython3",
      "version": "3.8.8"
    },
    "colab": {
      "name": "Lecture 0 (Python Basics and Hands On).ipynb",
      "provenance": []
    }
  },
  "cells": [
    {
      "cell_type": "markdown",
      "metadata": {
        "id": "NpMifeUm9GyR"
      },
      "source": [
        "# Python Basics\n",
        "Shehzeen Khan, J028\n",
        "B.Tech Data Science, Semester 5"
      ],
      "id": "NpMifeUm9GyR"
    },
    {
      "cell_type": "markdown",
      "metadata": {
        "id": "e34a7c5f"
      },
      "source": [
        "### How python flows?\n",
        "\n",
        "* High level Python Code $\\rightarrow$ Interpreter $\\rightarrow$ Machine language"
      ],
      "id": "e34a7c5f"
    },
    {
      "cell_type": "markdown",
      "metadata": {
        "id": "074aaa67"
      },
      "source": [
        "# 1. Variables"
      ],
      "id": "074aaa67"
    },
    {
      "cell_type": "code",
      "metadata": {
        "id": "c47c2126",
        "outputId": "5a885b26-f375-4046-a493-8df54a9f829c"
      },
      "source": [
        "myFirstVariable = 1\n",
        "mySecondVariable = 'Test'\n",
        "\n",
        "type(myFirstVariable), type(mySecondVariable)"
      ],
      "id": "c47c2126",
      "execution_count": null,
      "outputs": [
        {
          "data": {
            "text/plain": [
              "(int, str)"
            ]
          },
          "execution_count": 2,
          "metadata": {},
          "output_type": "execute_result"
        }
      ]
    },
    {
      "cell_type": "code",
      "metadata": {
        "id": "6fbffe74",
        "outputId": "737738bb-ebff-4d3b-c292-f61b7d1532bd"
      },
      "source": [
        "myFirstVariable = mySecondtVariable = 3\n",
        "\n",
        "myFirstVariable, mySecondtVariable"
      ],
      "id": "6fbffe74",
      "execution_count": null,
      "outputs": [
        {
          "data": {
            "text/plain": [
              "(3, 3)"
            ]
          },
          "execution_count": 4,
          "metadata": {},
          "output_type": "execute_result"
        }
      ]
    },
    {
      "cell_type": "code",
      "metadata": {
        "id": "6cf644ad",
        "outputId": "9e7ec2fc-b186-4526-966f-03ee03232911"
      },
      "source": [
        "myFirstVariable, mySecondtVariable = 3,4.2\n",
        "myFirstVariable, mySecondtVariable"
      ],
      "id": "6cf644ad",
      "execution_count": null,
      "outputs": [
        {
          "data": {
            "text/plain": [
              "(3, 4.2)"
            ]
          },
          "execution_count": 6,
          "metadata": {},
          "output_type": "execute_result"
        }
      ]
    },
    {
      "cell_type": "code",
      "metadata": {
        "id": "3442f503"
      },
      "source": [
        "myFirstString = 'test' \n",
        "myFirstString = \"test\"\n",
        "myFirstString = '''test''' #Multiline string"
      ],
      "id": "3442f503",
      "execution_count": null,
      "outputs": []
    },
    {
      "cell_type": "code",
      "metadata": {
        "id": "40678640",
        "outputId": "bcbad89b-74a5-44dd-eb30-5d61dbff8409"
      },
      "source": [
        "fStringOne = f'variable is {myFirstVariable} and string is {myFirstString}' #used in print statement, logging, complex and repetative query execution\n",
        "fStringOne"
      ],
      "id": "40678640",
      "execution_count": null,
      "outputs": [
        {
          "data": {
            "text/plain": [
              "'variable is 3 and string is test'"
            ]
          },
          "execution_count": 10,
          "metadata": {},
          "output_type": "execute_result"
        }
      ]
    },
    {
      "cell_type": "code",
      "metadata": {
        "id": "27b6ad5d",
        "outputId": "994fc0cf-b04c-4d7a-a3c3-ff551d955b9c"
      },
      "source": [
        "a = 1\n",
        "b = a\n",
        "a,b"
      ],
      "id": "27b6ad5d",
      "execution_count": null,
      "outputs": [
        {
          "data": {
            "text/plain": [
              "(1, 1)"
            ]
          },
          "execution_count": 18,
          "metadata": {},
          "output_type": "execute_result"
        }
      ]
    },
    {
      "cell_type": "code",
      "metadata": {
        "id": "1f068223",
        "outputId": "83cc23b9-d5c5-454d-d6ea-66d399be3993"
      },
      "source": [
        "a = 2\n",
        "a,b    "
      ],
      "id": "1f068223",
      "execution_count": null,
      "outputs": [
        {
          "data": {
            "text/plain": [
              "(2, 1)"
            ]
          },
          "execution_count": 28,
          "metadata": {},
          "output_type": "execute_result"
        }
      ]
    },
    {
      "cell_type": "code",
      "metadata": {
        "id": "383080c0"
      },
      "source": [
        "del a"
      ],
      "id": "383080c0",
      "execution_count": null,
      "outputs": []
    },
    {
      "cell_type": "code",
      "metadata": {
        "id": "c5be62ce",
        "outputId": "384bad8f-2824-402c-e059-e37a371a49cd"
      },
      "source": [
        "print(fStringOne)"
      ],
      "id": "c5be62ce",
      "execution_count": null,
      "outputs": [
        {
          "name": "stdout",
          "output_type": "stream",
          "text": [
            "variable is 3 and string is test\n"
          ]
        }
      ]
    },
    {
      "cell_type": "code",
      "metadata": {
        "id": "50d15534",
        "outputId": "6b9e4caf-7b91-4392-9b68-f74e5f846efe"
      },
      "source": [
        "def some_function():\n",
        "    test = False #variable with local scope\n",
        "    \n",
        "print(test) #can't be accessed"
      ],
      "id": "50d15534",
      "execution_count": null,
      "outputs": [
        {
          "ename": "NameError",
          "evalue": "name 'test' is not defined",
          "output_type": "error",
          "traceback": [
            "\u001b[1;31m---------------------------------------------------------------------------\u001b[0m",
            "\u001b[1;31mNameError\u001b[0m                                 Traceback (most recent call last)",
            "\u001b[1;32m<ipython-input-32-bb8dfba194e3>\u001b[0m in \u001b[0;36m<module>\u001b[1;34m\u001b[0m\n\u001b[0;32m      2\u001b[0m     \u001b[0mtest\u001b[0m \u001b[1;33m=\u001b[0m \u001b[1;32mFalse\u001b[0m \u001b[1;31m#variable with local scope\u001b[0m\u001b[1;33m\u001b[0m\u001b[1;33m\u001b[0m\u001b[0m\n\u001b[0;32m      3\u001b[0m \u001b[1;33m\u001b[0m\u001b[0m\n\u001b[1;32m----> 4\u001b[1;33m \u001b[0mprint\u001b[0m\u001b[1;33m(\u001b[0m\u001b[0mtest\u001b[0m\u001b[1;33m)\u001b[0m \u001b[1;31m#can't be accessed\u001b[0m\u001b[1;33m\u001b[0m\u001b[1;33m\u001b[0m\u001b[0m\n\u001b[0m",
            "\u001b[1;31mNameError\u001b[0m: name 'test' is not defined"
          ]
        }
      ]
    },
    {
      "cell_type": "code",
      "metadata": {
        "id": "cf8c60f5",
        "outputId": "c950050d-997e-43c5-b6b6-0e15e1ef655a"
      },
      "source": [
        "test = True\n",
        "print(test)\n",
        "def some_function():\n",
        "    global test\n",
        "    test = False #variable with global scope\n",
        "    \n",
        "some_function()\n",
        "print(test) #value of variable is changed"
      ],
      "id": "cf8c60f5",
      "execution_count": null,
      "outputs": [
        {
          "name": "stdout",
          "output_type": "stream",
          "text": [
            "True\n",
            "False\n"
          ]
        }
      ]
    },
    {
      "cell_type": "code",
      "metadata": {
        "id": "6e5180d7",
        "outputId": "98618220-8801-4c00-94f2-636c424dde37"
      },
      "source": [
        "type(test)"
      ],
      "id": "6e5180d7",
      "execution_count": null,
      "outputs": [
        {
          "data": {
            "text/plain": [
              "bool"
            ]
          },
          "execution_count": 40,
          "metadata": {},
          "output_type": "execute_result"
        }
      ]
    },
    {
      "cell_type": "code",
      "metadata": {
        "id": "e19ccbe0",
        "outputId": "384b34a4-ca22-4313-9ae1-0512ab473f7b"
      },
      "source": [
        "#arithmatic operations\n",
        "\n",
        "1//3, 1*10, 2**2, 2-2, 2+2, 10/5, 7%2"
      ],
      "id": "e19ccbe0",
      "execution_count": null,
      "outputs": [
        {
          "data": {
            "text/plain": [
              "(0, 10, 4, 0, 4, 2.0)"
            ]
          },
          "execution_count": 42,
          "metadata": {},
          "output_type": "execute_result"
        }
      ]
    },
    {
      "cell_type": "code",
      "metadata": {
        "id": "5afd046b",
        "outputId": "b2d9cfad-1b5e-466e-d008-9e1f7568ab2a"
      },
      "source": [
        "# string operations\n",
        "'A' + 'B'\n",
        "\n",
        "\"a\"*3\n",
        "\n",
        "fStringOne[-2:]\n",
        "\n",
        "x = fStringOne[-2:] \n",
        "x\n",
        "\n",
        "len(fStringOne) #length\n",
        "\n",
        "fStringOne.find('r') #string operations\n",
        "\n",
        "int('5') #typecasting"
      ],
      "id": "5afd046b",
      "execution_count": null,
      "outputs": [
        {
          "data": {
            "text/plain": [
              "'AB'"
            ]
          },
          "execution_count": 45,
          "metadata": {},
          "output_type": "execute_result"
        }
      ]
    },
    {
      "cell_type": "code",
      "metadata": {
        "id": "f7608026",
        "outputId": "c1037fa2-0880-4acf-9985-a3d837acf99c"
      },
      "source": [
        "#Sets\n",
        "\n",
        "firstSet = {2,5,1,6,3,22,-3,5}\n",
        "firstSet"
      ],
      "id": "f7608026",
      "execution_count": null,
      "outputs": [
        {
          "data": {
            "text/plain": [
              "{-3, 1, 2, 3, 5, 6, 22}"
            ]
          },
          "execution_count": 60,
          "metadata": {},
          "output_type": "execute_result"
        }
      ]
    },
    {
      "cell_type": "code",
      "metadata": {
        "id": "066345f8"
      },
      "source": [
        "firstSet."
      ],
      "id": "066345f8",
      "execution_count": null,
      "outputs": []
    },
    {
      "cell_type": "markdown",
      "metadata": {
        "id": "802eeb1f"
      },
      "source": [
        "## Homework: Explore all set operations and print results in a neat format"
      ],
      "id": "802eeb1f"
    },
    {
      "cell_type": "markdown",
      "metadata": {
        "id": "2028b847"
      },
      "source": [
        "# Ternary operator\n",
        "\n",
        "[If True] if [Expression] Else [if False]"
      ],
      "id": "2028b847"
    },
    {
      "cell_type": "code",
      "metadata": {
        "id": "fbaaf19e",
        "outputId": "b0343173-9559-4c38-ed02-dc56b0c3d1fe"
      },
      "source": [
        "val = True if test else False \n",
        "\n",
        "val"
      ],
      "id": "fbaaf19e",
      "execution_count": null,
      "outputs": [
        {
          "data": {
            "text/plain": [
              "False"
            ]
          },
          "execution_count": 63,
          "metadata": {},
          "output_type": "execute_result"
        }
      ]
    },
    {
      "cell_type": "code",
      "metadata": {
        "id": "e0e36dff"
      },
      "source": [
        "# single line comment\n",
        "# multi\n",
        "# line\n",
        "# comments"
      ],
      "id": "e0e36dff",
      "execution_count": null,
      "outputs": []
    },
    {
      "cell_type": "markdown",
      "metadata": {
        "id": "54d6302a"
      },
      "source": [
        "## Expressions:\n",
        "\n",
        "* Equality ==\n",
        "* Not equal !=\n",
        "* Comparison >, <, >=, <="
      ],
      "id": "54d6302a"
    },
    {
      "cell_type": "markdown",
      "metadata": {
        "id": "29b60c45"
      },
      "source": [
        "## Functions"
      ],
      "id": "29b60c45"
    },
    {
      "cell_type": "code",
      "metadata": {
        "id": "561d6a2c"
      },
      "source": [
        "def my_new_func(x, flag = True):\n",
        "    '''\n",
        "    This is a doctsring. It gives information abput the function.\n",
        "    This function prints stuff\n",
        "    \n",
        "    Arguments:\n",
        "    x: Object to be printed\n",
        "    '''\n",
        "    if flag:\n",
        "        print(f'test print {x}')\n",
        "        \n",
        "    else:\n",
        "        print('Flag is set to false')\n",
        "    \n",
        "# my_new_func('a')"
      ],
      "id": "561d6a2c",
      "execution_count": null,
      "outputs": []
    },
    {
      "cell_type": "code",
      "metadata": {
        "id": "aa57501b",
        "outputId": "d54162d3-5432-45b5-b9fa-b8c2b2d3ef2a"
      },
      "source": [
        "len('hello')"
      ],
      "id": "aa57501b",
      "execution_count": null,
      "outputs": [
        {
          "data": {
            "text/plain": [
              "5"
            ]
          },
          "execution_count": 76,
          "metadata": {},
          "output_type": "execute_result"
        }
      ]
    },
    {
      "cell_type": "code",
      "metadata": {
        "id": "1d3cfae9",
        "outputId": "a5d2e97a-cb4f-459e-fad2-5ba953ebc528"
      },
      "source": [
        "my_new_func('test', flag = False)"
      ],
      "id": "1d3cfae9",
      "execution_count": null,
      "outputs": [
        {
          "name": "stdout",
          "output_type": "stream",
          "text": [
            "Flag is set to false\n"
          ]
        }
      ]
    },
    {
      "cell_type": "code",
      "metadata": {
        "id": "5b813dcd",
        "outputId": "8ee9f670-190a-4d7d-9739-81abed5f0330"
      },
      "source": [
        "def new_func_2(a,b):\n",
        "    if b == 0:\n",
        "        return 'Invalid input for b'\n",
        "    else:\n",
        "        return a/b\n",
        "\n",
        "new_func_2(1,1)"
      ],
      "id": "5b813dcd",
      "execution_count": null,
      "outputs": [
        {
          "data": {
            "text/plain": [
              "1.0"
            ]
          },
          "execution_count": 85,
          "metadata": {},
          "output_type": "execute_result"
        }
      ]
    },
    {
      "cell_type": "code",
      "metadata": {
        "id": "450e7dea",
        "outputId": "598c435d-9df3-45cf-d5b2-bb03062719bb"
      },
      "source": [
        "def new_func_3(a,b):\n",
        "    try:\n",
        "        c = a/b\n",
        "    except Exception as e:\n",
        "        print(e)\n",
        "        print('Value of b cannot be zero')\n",
        "\n",
        "new_func_3(1,0)\n",
        "new_func_2(1,1)"
      ],
      "id": "450e7dea",
      "execution_count": null,
      "outputs": [
        {
          "name": "stdout",
          "output_type": "stream",
          "text": [
            "division by zero\n",
            "Value of b cannot be zero\n"
          ]
        },
        {
          "data": {
            "text/plain": [
              "1.0"
            ]
          },
          "execution_count": 87,
          "metadata": {},
          "output_type": "execute_result"
        }
      ]
    },
    {
      "cell_type": "code",
      "metadata": {
        "id": "e6f24425"
      },
      "source": [
        "def new_func_4(*args, **kwargs):\n",
        "    print(args)\n",
        "    print(kwargs)\n",
        "    print(args[0])\n",
        "    print(kwargs.get('a'))"
      ],
      "id": "e6f24425",
      "execution_count": null,
      "outputs": []
    },
    {
      "cell_type": "code",
      "metadata": {
        "id": "633d6ec7",
        "outputId": "d55bd4af-ffa7-4746-ef76-3f22d1af39eb"
      },
      "source": [
        "alpha = 'alpha'\n",
        "beta = 'beta'\n",
        "new_func_4(alpha, beta, a=1, b=2)"
      ],
      "id": "633d6ec7",
      "execution_count": null,
      "outputs": [
        {
          "name": "stdout",
          "output_type": "stream",
          "text": [
            "('alpha', 'beta')\n",
            "{'a': 1, 'b': 2}\n",
            "alpha\n",
            "1\n"
          ]
        }
      ]
    },
    {
      "cell_type": "code",
      "metadata": {
        "id": "41ce4c22",
        "outputId": "202f5736-8a18-4780-9bb5-694bc06e7b1e"
      },
      "source": [
        "def new_func_5(a,b):\n",
        "    return a,b\n",
        "\n",
        "x,y = new_func_5(2,3)\n",
        "x,y"
      ],
      "id": "41ce4c22",
      "execution_count": null,
      "outputs": [
        {
          "data": {
            "text/plain": [
              "(2, 3)"
            ]
          },
          "execution_count": 98,
          "metadata": {},
          "output_type": "execute_result"
        }
      ]
    },
    {
      "cell_type": "markdown",
      "metadata": {
        "id": "2f3926a1"
      },
      "source": [
        "## Lambda expressions\n",
        "\n",
        "### format: variable = lambda arguments: expression\n",
        "\n",
        "* Single expression anonymous function\n",
        "* inline function"
      ],
      "id": "2f3926a1"
    },
    {
      "cell_type": "code",
      "metadata": {
        "id": "7b6b01e1",
        "outputId": "16149414-93fb-4ddc-e1ce-216cb1f13e5c"
      },
      "source": [
        "my_lambda = lambda x,y,z : (x - 100 + y - z)*2**3\n",
        "my_lambda(100,2,3)"
      ],
      "id": "7b6b01e1",
      "execution_count": null,
      "outputs": [
        {
          "data": {
            "text/plain": [
              "-8"
            ]
          },
          "execution_count": 100,
          "metadata": {},
          "output_type": "execute_result"
        }
      ]
    },
    {
      "cell_type": "markdown",
      "metadata": {
        "id": "aea8ffa1"
      },
      "source": [
        "## Loops and conditionals"
      ],
      "id": "aea8ffa1"
    },
    {
      "cell_type": "code",
      "metadata": {
        "id": "4b4136f5",
        "outputId": "6152b3ab-a16f-4aaf-eaac-c5548de3ab5c"
      },
      "source": [
        "input1 = 10\n",
        "while input1 > 0:\n",
        "    print(input1)\n",
        "    input1 -= 1"
      ],
      "id": "4b4136f5",
      "execution_count": null,
      "outputs": [
        {
          "name": "stdout",
          "output_type": "stream",
          "text": [
            "10\n",
            "9\n",
            "8\n",
            "7\n",
            "6\n",
            "5\n",
            "4\n",
            "3\n",
            "2\n",
            "1\n"
          ]
        }
      ]
    },
    {
      "cell_type": "code",
      "metadata": {
        "id": "134d8c38",
        "outputId": "dee7d701-3ce4-446a-b08b-c6e928089ed7"
      },
      "source": [
        "for i in range(-3,10):\n",
        "    print(i)"
      ],
      "id": "134d8c38",
      "execution_count": null,
      "outputs": [
        {
          "name": "stdout",
          "output_type": "stream",
          "text": [
            "-3\n",
            "-2\n",
            "-1\n",
            "0\n",
            "1\n",
            "2\n",
            "3\n",
            "4\n",
            "5\n",
            "6\n",
            "7\n",
            "8\n",
            "9\n"
          ]
        }
      ]
    },
    {
      "cell_type": "code",
      "metadata": {
        "id": "ec091adc",
        "outputId": "f0e7f478-0173-4297-bb6d-e64f087554a3"
      },
      "source": [
        "for i in 'dghvhsg':\n",
        "    print(i)"
      ],
      "id": "ec091adc",
      "execution_count": null,
      "outputs": [
        {
          "name": "stdout",
          "output_type": "stream",
          "text": [
            "d\n",
            "g\n",
            "h\n",
            "v\n",
            "h\n",
            "s\n",
            "g\n"
          ]
        }
      ]
    },
    {
      "cell_type": "code",
      "metadata": {
        "id": "b7505e0d"
      },
      "source": [
        "def factorial(n):\n",
        "    if n==0:\n",
        "        return 1\n",
        "    else:\n",
        "        return n * factorial(n-1)"
      ],
      "id": "b7505e0d",
      "execution_count": null,
      "outputs": []
    },
    {
      "cell_type": "code",
      "metadata": {
        "id": "d7ed0c0c",
        "outputId": "414951fa-bb92-40c8-c8f3-89edb73d7373"
      },
      "source": [
        "factorial(5)"
      ],
      "id": "d7ed0c0c",
      "execution_count": null,
      "outputs": [
        {
          "data": {
            "text/plain": [
              "120"
            ]
          },
          "execution_count": 105,
          "metadata": {},
          "output_type": "execute_result"
        }
      ]
    },
    {
      "cell_type": "markdown",
      "metadata": {
        "id": "8b08c3ce"
      },
      "source": [
        "## Homework: Write a recursive function for a fibonacci series"
      ],
      "id": "8b08c3ce"
    },
    {
      "cell_type": "markdown",
      "metadata": {
        "id": "f74febee"
      },
      "source": [
        "## Collections\n",
        "\n",
        "* lists, tuples, dictionaries"
      ],
      "id": "f74febee"
    },
    {
      "cell_type": "code",
      "metadata": {
        "id": "6246470d"
      },
      "source": [
        "my_list = ['A', 'B', 1, 2.5]\n",
        "my_tuple = ('f', 'm', 1)"
      ],
      "id": "6246470d",
      "execution_count": null,
      "outputs": []
    },
    {
      "cell_type": "code",
      "metadata": {
        "id": "10c1bf78",
        "outputId": "66ad5af8-e79b-4dab-c004-db1bcd2562b1"
      },
      "source": [
        "my_dictionary = {'a': 1, 'b': 2}\n",
        "my_dictionary['a']"
      ],
      "id": "10c1bf78",
      "execution_count": null,
      "outputs": [
        {
          "data": {
            "text/plain": [
              "1"
            ]
          },
          "execution_count": 108,
          "metadata": {},
          "output_type": "execute_result"
        }
      ]
    },
    {
      "cell_type": "code",
      "metadata": {
        "id": "e64c2070",
        "outputId": "494e4903-408e-49b4-b13f-6fcdaabad08d"
      },
      "source": [
        "my_list_2 = [] #empty list\n",
        "my_list_2.append(2)\n",
        "my_list_2.extend(['A', 'B', 1, 2.5])\n",
        "\n",
        "my_list_3 = list(('A', 'B', 1, 2.5)) #convert tuple/set to list\n",
        "\n",
        "my_list_2, my_list_3"
      ],
      "id": "e64c2070",
      "execution_count": null,
      "outputs": [
        {
          "data": {
            "text/plain": [
              "([2, 'A', 'B', 1, 2.5], ['A', 'B', 1, 2.5])"
            ]
          },
          "execution_count": 110,
          "metadata": {},
          "output_type": "execute_result"
        }
      ]
    },
    {
      "cell_type": "code",
      "metadata": {
        "id": "171e9c4a",
        "outputId": "85ce7f51-16ce-49db-8f60-7c171cd16b2a"
      },
      "source": [
        "my_dictionary_2 = dict()\n",
        "my_dictionary_2['test'] = 4\n",
        "my_dictionary_2\n",
        "my_dictionary_2['test2'] = 5\n",
        "my_dictionary_2\n",
        "my_dictionary_2['test3'] = 6\n",
        "my_dictionary_2"
      ],
      "id": "171e9c4a",
      "execution_count": null,
      "outputs": [
        {
          "data": {
            "text/plain": [
              "{'test': 4, 'test2': 5, 'test3': 6}"
            ]
          },
          "execution_count": 112,
          "metadata": {},
          "output_type": "execute_result"
        }
      ]
    },
    {
      "cell_type": "code",
      "metadata": {
        "id": "c8ad846f",
        "outputId": "4effd623-5bdf-4f5b-ea3f-8f3707f2dfed"
      },
      "source": [
        "# loop over dictionary\n",
        "for key in my_dictionary_2:\n",
        "    print(key, my_dictionary_2[key])"
      ],
      "id": "c8ad846f",
      "execution_count": null,
      "outputs": [
        {
          "name": "stdout",
          "output_type": "stream",
          "text": [
            "test 4\n",
            "test2 5\n",
            "test3 6\n"
          ]
        }
      ]
    },
    {
      "cell_type": "code",
      "metadata": {
        "id": "ae2dbadf",
        "outputId": "232a3929-bdf5-4f67-8415-82bae48623e1"
      },
      "source": [
        "#loop over 2 lists\n",
        "\n",
        "list1 = [1,2,3,4,5]\n",
        "list2 = [0,9,8,7,6]\n",
        "\n",
        "for x,y in zip(list1, list2):\n",
        "    print(x,y)"
      ],
      "id": "ae2dbadf",
      "execution_count": null,
      "outputs": [
        {
          "name": "stdout",
          "output_type": "stream",
          "text": [
            "1 0\n",
            "2 9\n",
            "3 8\n",
            "4 7\n",
            "5 6\n"
          ]
        }
      ]
    },
    {
      "cell_type": "code",
      "metadata": {
        "id": "acc9c41d",
        "outputId": "def1a32b-7b8c-4ff7-8a84-f578a4535076"
      },
      "source": [
        "#get index in loop\n",
        "\n",
        "for x,y in enumerate(list1):\n",
        "    print(x,y)"
      ],
      "id": "acc9c41d",
      "execution_count": null,
      "outputs": [
        {
          "name": "stdout",
          "output_type": "stream",
          "text": [
            "0 1\n",
            "1 2\n",
            "2 3\n",
            "3 4\n",
            "4 5\n"
          ]
        }
      ]
    },
    {
      "cell_type": "markdown",
      "metadata": {
        "id": "90df84ad"
      },
      "source": [
        "## Object oriented Design - Classes"
      ],
      "id": "90df84ad"
    },
    {
      "cell_type": "code",
      "metadata": {
        "id": "ad3ddb55",
        "outputId": "fe64b036-f3e2-484d-83ef-c8c80af2fcdf"
      },
      "source": [
        "class MyClass:\n",
        "    def __init__(self, x):\n",
        "        self.x = x\n",
        "        \n",
        "    def MyClassFunction(self): #self = reference to the object\n",
        "        return self.x\n",
        "    \n",
        "m = MyClass(10)\n",
        "m.MyClassFunction()"
      ],
      "id": "ad3ddb55",
      "execution_count": null,
      "outputs": [
        {
          "data": {
            "text/plain": [
              "10"
            ]
          },
          "execution_count": 121,
          "metadata": {},
          "output_type": "execute_result"
        }
      ]
    },
    {
      "cell_type": "code",
      "metadata": {
        "id": "2d5fb954",
        "outputId": "e0e0e575-0c9e-40f7-ac1e-12c5194eea9f"
      },
      "source": [
        "a,b = 5,6\n",
        "c = [a,b]\n",
        "print(c)\n",
        "a,b = 5,7\n",
        "print(c)"
      ],
      "id": "2d5fb954",
      "execution_count": null,
      "outputs": [
        {
          "name": "stdout",
          "output_type": "stream",
          "text": [
            "[5, 6]\n",
            "[5, 6]\n"
          ]
        }
      ]
    },
    {
      "cell_type": "markdown",
      "metadata": {
        "id": "60a6957c"
      },
      "source": [
        "# Read/Write "
      ],
      "id": "60a6957c"
    },
    {
      "cell_type": "code",
      "metadata": {
        "id": "4c0ff64f",
        "outputId": "accaa340-daa1-416c-e0b5-a32ca640380c"
      },
      "source": [
        "test = input()"
      ],
      "id": "4c0ff64f",
      "execution_count": null,
      "outputs": [
        {
          "name": "stdout",
          "output_type": "stream",
          "text": [
            "Python is an interpreted high-level general-purpose programming language. Python's design philosophy emphasizes code readability with its notable use of significant indentation. Its language constructs as well as its object-oriented approach aim to help programmers write clear, logical code for small and large-scale projects.\n"
          ]
        }
      ]
    },
    {
      "cell_type": "code",
      "metadata": {
        "id": "88f88657"
      },
      "source": [
        "with open('text_file.txt', 'w') as my_file:\n",
        "    my_file.write(test)"
      ],
      "id": "88f88657",
      "execution_count": null,
      "outputs": []
    },
    {
      "cell_type": "code",
      "metadata": {
        "id": "69a5e132",
        "outputId": "60045fda-856b-4a28-e5a3-43777660e7f1"
      },
      "source": [
        "with open('text_file.txt', 'r') as my_file:\n",
        "    for line in my_file:\n",
        "        print(line)"
      ],
      "id": "69a5e132",
      "execution_count": null,
      "outputs": [
        {
          "name": "stdout",
          "output_type": "stream",
          "text": [
            "Python is an interpreted high-level general-purpose programming language. Python's design philosophy emphasizes code readability with its notable use of significant indentation. Its language constructs as well as its object-oriented approach aim to help programmers write clear, logical code for small and large-scale projects.\n"
          ]
        }
      ]
    },
    {
      "cell_type": "code",
      "metadata": {
        "id": "49363e98"
      },
      "source": [
        ""
      ],
      "id": "49363e98",
      "execution_count": null,
      "outputs": []
    }
  ]
}