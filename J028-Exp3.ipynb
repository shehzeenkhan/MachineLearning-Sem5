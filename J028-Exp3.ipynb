{
  "nbformat": 4,
  "nbformat_minor": 0,
  "metadata": {
    "colab": {
      "name": "ML_assignment_3.ipynb",
      "provenance": []
    },
    "kernelspec": {
      "name": "python3",
      "display_name": "Python 3"
    },
    "language_info": {
      "name": "python"
    }
  },
  "cells": [
    {
      "cell_type": "markdown",
      "metadata": {
        "id": "h1Oay2yL0jKG"
      },
      "source": [
        "# Gradient descent and linear regression\n",
        "\n",
        "Shehzeen Khan, J028\n",
        "B.Tech Data Science, Semester 5 \n",
        "\n"
      ]
    },
    {
      "cell_type": "markdown",
      "metadata": {
        "id": "liygOn543dw2"
      },
      "source": [
        "# importing libraries"
      ]
    },
    {
      "cell_type": "code",
      "metadata": {
        "id": "rP-spmVe3XFh"
      },
      "source": [
        "import numpy as np\n",
        "import pandas as pd\n",
        "import matplotlib.pyplot as plt"
      ],
      "execution_count": null,
      "outputs": []
    },
    {
      "cell_type": "markdown",
      "metadata": {
        "id": "dxkiHWyi3rAx"
      },
      "source": [
        "# importing the datasets"
      ]
    },
    {
      "cell_type": "code",
      "metadata": {
        "id": "RkRnqeJk3p0S"
      },
      "source": [
        "dataset = pd.read_csv('ex1data2.txt')"
      ],
      "execution_count": null,
      "outputs": []
    },
    {
      "cell_type": "code",
      "metadata": {
        "id": "DbEFyhU_4_Wt"
      },
      "source": [
        "dataset.columns = [\"size\",\"rooms\",\"price\"]"
      ],
      "execution_count": null,
      "outputs": []
    },
    {
      "cell_type": "code",
      "metadata": {
        "id": "R6Jo-u2p5nY5"
      },
      "source": [
        "x = dataset.iloc[:,:-1].values\n",
        "y = dataset.iloc[:,-1].values"
      ],
      "execution_count": null,
      "outputs": []
    },
    {
      "cell_type": "code",
      "metadata": {
        "colab": {
          "base_uri": "https://localhost:8080/"
        },
        "id": "qrnkiBtt53ip",
        "outputId": "37221afb-7a8b-4b15-e7b2-1f8a3f8e3ad4"
      },
      "source": [
        "x"
      ],
      "execution_count": null,
      "outputs": [
        {
          "output_type": "execute_result",
          "data": {
            "text/plain": [
              "array([[1600,    3],\n",
              "       [2400,    3],\n",
              "       [1416,    2],\n",
              "       [3000,    4],\n",
              "       [1985,    4],\n",
              "       [1534,    3],\n",
              "       [1427,    3],\n",
              "       [1380,    3],\n",
              "       [1494,    3],\n",
              "       [1940,    4],\n",
              "       [2000,    3],\n",
              "       [1890,    3],\n",
              "       [4478,    5],\n",
              "       [1268,    3],\n",
              "       [2300,    4],\n",
              "       [1320,    2],\n",
              "       [1236,    3],\n",
              "       [2609,    4],\n",
              "       [3031,    4],\n",
              "       [1767,    3],\n",
              "       [1888,    2],\n",
              "       [1604,    3],\n",
              "       [1962,    4],\n",
              "       [3890,    3],\n",
              "       [1100,    3],\n",
              "       [1458,    3],\n",
              "       [2526,    3],\n",
              "       [2200,    3],\n",
              "       [2637,    3],\n",
              "       [1839,    2],\n",
              "       [1000,    1],\n",
              "       [2040,    4],\n",
              "       [3137,    3],\n",
              "       [1811,    4],\n",
              "       [1437,    3],\n",
              "       [1239,    3],\n",
              "       [2132,    4],\n",
              "       [4215,    4],\n",
              "       [2162,    4],\n",
              "       [1664,    2],\n",
              "       [2238,    3],\n",
              "       [2567,    4],\n",
              "       [1200,    3],\n",
              "       [ 852,    2],\n",
              "       [1852,    4],\n",
              "       [1203,    3]])"
            ]
          },
          "metadata": {
            "tags": []
          },
          "execution_count": 431
        }
      ]
    },
    {
      "cell_type": "code",
      "metadata": {
        "colab": {
          "base_uri": "https://localhost:8080/",
          "height": 1491
        },
        "id": "jPKwGMpE54fG",
        "outputId": "505f3aaf-7e83-453c-b8ef-5751b29f9851"
      },
      "source": [
        "dataset"
      ],
      "execution_count": null,
      "outputs": [
        {
          "output_type": "execute_result",
          "data": {
            "text/html": [
              "<div>\n",
              "<style scoped>\n",
              "    .dataframe tbody tr th:only-of-type {\n",
              "        vertical-align: middle;\n",
              "    }\n",
              "\n",
              "    .dataframe tbody tr th {\n",
              "        vertical-align: top;\n",
              "    }\n",
              "\n",
              "    .dataframe thead th {\n",
              "        text-align: right;\n",
              "    }\n",
              "</style>\n",
              "<table border=\"1\" class=\"dataframe\">\n",
              "  <thead>\n",
              "    <tr style=\"text-align: right;\">\n",
              "      <th></th>\n",
              "      <th>size</th>\n",
              "      <th>rooms</th>\n",
              "      <th>price</th>\n",
              "    </tr>\n",
              "  </thead>\n",
              "  <tbody>\n",
              "    <tr>\n",
              "      <th>0</th>\n",
              "      <td>1600</td>\n",
              "      <td>3</td>\n",
              "      <td>329900</td>\n",
              "    </tr>\n",
              "    <tr>\n",
              "      <th>1</th>\n",
              "      <td>2400</td>\n",
              "      <td>3</td>\n",
              "      <td>369000</td>\n",
              "    </tr>\n",
              "    <tr>\n",
              "      <th>2</th>\n",
              "      <td>1416</td>\n",
              "      <td>2</td>\n",
              "      <td>232000</td>\n",
              "    </tr>\n",
              "    <tr>\n",
              "      <th>3</th>\n",
              "      <td>3000</td>\n",
              "      <td>4</td>\n",
              "      <td>539900</td>\n",
              "    </tr>\n",
              "    <tr>\n",
              "      <th>4</th>\n",
              "      <td>1985</td>\n",
              "      <td>4</td>\n",
              "      <td>299900</td>\n",
              "    </tr>\n",
              "    <tr>\n",
              "      <th>5</th>\n",
              "      <td>1534</td>\n",
              "      <td>3</td>\n",
              "      <td>314900</td>\n",
              "    </tr>\n",
              "    <tr>\n",
              "      <th>6</th>\n",
              "      <td>1427</td>\n",
              "      <td>3</td>\n",
              "      <td>198999</td>\n",
              "    </tr>\n",
              "    <tr>\n",
              "      <th>7</th>\n",
              "      <td>1380</td>\n",
              "      <td>3</td>\n",
              "      <td>212000</td>\n",
              "    </tr>\n",
              "    <tr>\n",
              "      <th>8</th>\n",
              "      <td>1494</td>\n",
              "      <td>3</td>\n",
              "      <td>242500</td>\n",
              "    </tr>\n",
              "    <tr>\n",
              "      <th>9</th>\n",
              "      <td>1940</td>\n",
              "      <td>4</td>\n",
              "      <td>239999</td>\n",
              "    </tr>\n",
              "    <tr>\n",
              "      <th>10</th>\n",
              "      <td>2000</td>\n",
              "      <td>3</td>\n",
              "      <td>347000</td>\n",
              "    </tr>\n",
              "    <tr>\n",
              "      <th>11</th>\n",
              "      <td>1890</td>\n",
              "      <td>3</td>\n",
              "      <td>329999</td>\n",
              "    </tr>\n",
              "    <tr>\n",
              "      <th>12</th>\n",
              "      <td>4478</td>\n",
              "      <td>5</td>\n",
              "      <td>699900</td>\n",
              "    </tr>\n",
              "    <tr>\n",
              "      <th>13</th>\n",
              "      <td>1268</td>\n",
              "      <td>3</td>\n",
              "      <td>259900</td>\n",
              "    </tr>\n",
              "    <tr>\n",
              "      <th>14</th>\n",
              "      <td>2300</td>\n",
              "      <td>4</td>\n",
              "      <td>449900</td>\n",
              "    </tr>\n",
              "    <tr>\n",
              "      <th>15</th>\n",
              "      <td>1320</td>\n",
              "      <td>2</td>\n",
              "      <td>299900</td>\n",
              "    </tr>\n",
              "    <tr>\n",
              "      <th>16</th>\n",
              "      <td>1236</td>\n",
              "      <td>3</td>\n",
              "      <td>199900</td>\n",
              "    </tr>\n",
              "    <tr>\n",
              "      <th>17</th>\n",
              "      <td>2609</td>\n",
              "      <td>4</td>\n",
              "      <td>499998</td>\n",
              "    </tr>\n",
              "    <tr>\n",
              "      <th>18</th>\n",
              "      <td>3031</td>\n",
              "      <td>4</td>\n",
              "      <td>599000</td>\n",
              "    </tr>\n",
              "    <tr>\n",
              "      <th>19</th>\n",
              "      <td>1767</td>\n",
              "      <td>3</td>\n",
              "      <td>252900</td>\n",
              "    </tr>\n",
              "    <tr>\n",
              "      <th>20</th>\n",
              "      <td>1888</td>\n",
              "      <td>2</td>\n",
              "      <td>255000</td>\n",
              "    </tr>\n",
              "    <tr>\n",
              "      <th>21</th>\n",
              "      <td>1604</td>\n",
              "      <td>3</td>\n",
              "      <td>242900</td>\n",
              "    </tr>\n",
              "    <tr>\n",
              "      <th>22</th>\n",
              "      <td>1962</td>\n",
              "      <td>4</td>\n",
              "      <td>259900</td>\n",
              "    </tr>\n",
              "    <tr>\n",
              "      <th>23</th>\n",
              "      <td>3890</td>\n",
              "      <td>3</td>\n",
              "      <td>573900</td>\n",
              "    </tr>\n",
              "    <tr>\n",
              "      <th>24</th>\n",
              "      <td>1100</td>\n",
              "      <td>3</td>\n",
              "      <td>249900</td>\n",
              "    </tr>\n",
              "    <tr>\n",
              "      <th>25</th>\n",
              "      <td>1458</td>\n",
              "      <td>3</td>\n",
              "      <td>464500</td>\n",
              "    </tr>\n",
              "    <tr>\n",
              "      <th>26</th>\n",
              "      <td>2526</td>\n",
              "      <td>3</td>\n",
              "      <td>469000</td>\n",
              "    </tr>\n",
              "    <tr>\n",
              "      <th>27</th>\n",
              "      <td>2200</td>\n",
              "      <td>3</td>\n",
              "      <td>475000</td>\n",
              "    </tr>\n",
              "    <tr>\n",
              "      <th>28</th>\n",
              "      <td>2637</td>\n",
              "      <td>3</td>\n",
              "      <td>299900</td>\n",
              "    </tr>\n",
              "    <tr>\n",
              "      <th>29</th>\n",
              "      <td>1839</td>\n",
              "      <td>2</td>\n",
              "      <td>349900</td>\n",
              "    </tr>\n",
              "    <tr>\n",
              "      <th>30</th>\n",
              "      <td>1000</td>\n",
              "      <td>1</td>\n",
              "      <td>169900</td>\n",
              "    </tr>\n",
              "    <tr>\n",
              "      <th>31</th>\n",
              "      <td>2040</td>\n",
              "      <td>4</td>\n",
              "      <td>314900</td>\n",
              "    </tr>\n",
              "    <tr>\n",
              "      <th>32</th>\n",
              "      <td>3137</td>\n",
              "      <td>3</td>\n",
              "      <td>579900</td>\n",
              "    </tr>\n",
              "    <tr>\n",
              "      <th>33</th>\n",
              "      <td>1811</td>\n",
              "      <td>4</td>\n",
              "      <td>285900</td>\n",
              "    </tr>\n",
              "    <tr>\n",
              "      <th>34</th>\n",
              "      <td>1437</td>\n",
              "      <td>3</td>\n",
              "      <td>249900</td>\n",
              "    </tr>\n",
              "    <tr>\n",
              "      <th>35</th>\n",
              "      <td>1239</td>\n",
              "      <td>3</td>\n",
              "      <td>229900</td>\n",
              "    </tr>\n",
              "    <tr>\n",
              "      <th>36</th>\n",
              "      <td>2132</td>\n",
              "      <td>4</td>\n",
              "      <td>345000</td>\n",
              "    </tr>\n",
              "    <tr>\n",
              "      <th>37</th>\n",
              "      <td>4215</td>\n",
              "      <td>4</td>\n",
              "      <td>549000</td>\n",
              "    </tr>\n",
              "    <tr>\n",
              "      <th>38</th>\n",
              "      <td>2162</td>\n",
              "      <td>4</td>\n",
              "      <td>287000</td>\n",
              "    </tr>\n",
              "    <tr>\n",
              "      <th>39</th>\n",
              "      <td>1664</td>\n",
              "      <td>2</td>\n",
              "      <td>368500</td>\n",
              "    </tr>\n",
              "    <tr>\n",
              "      <th>40</th>\n",
              "      <td>2238</td>\n",
              "      <td>3</td>\n",
              "      <td>329900</td>\n",
              "    </tr>\n",
              "    <tr>\n",
              "      <th>41</th>\n",
              "      <td>2567</td>\n",
              "      <td>4</td>\n",
              "      <td>314000</td>\n",
              "    </tr>\n",
              "    <tr>\n",
              "      <th>42</th>\n",
              "      <td>1200</td>\n",
              "      <td>3</td>\n",
              "      <td>299000</td>\n",
              "    </tr>\n",
              "    <tr>\n",
              "      <th>43</th>\n",
              "      <td>852</td>\n",
              "      <td>2</td>\n",
              "      <td>179900</td>\n",
              "    </tr>\n",
              "    <tr>\n",
              "      <th>44</th>\n",
              "      <td>1852</td>\n",
              "      <td>4</td>\n",
              "      <td>299900</td>\n",
              "    </tr>\n",
              "    <tr>\n",
              "      <th>45</th>\n",
              "      <td>1203</td>\n",
              "      <td>3</td>\n",
              "      <td>239500</td>\n",
              "    </tr>\n",
              "  </tbody>\n",
              "</table>\n",
              "</div>"
            ],
            "text/plain": [
              "    size  rooms   price\n",
              "0   1600      3  329900\n",
              "1   2400      3  369000\n",
              "2   1416      2  232000\n",
              "3   3000      4  539900\n",
              "4   1985      4  299900\n",
              "5   1534      3  314900\n",
              "6   1427      3  198999\n",
              "7   1380      3  212000\n",
              "8   1494      3  242500\n",
              "9   1940      4  239999\n",
              "10  2000      3  347000\n",
              "11  1890      3  329999\n",
              "12  4478      5  699900\n",
              "13  1268      3  259900\n",
              "14  2300      4  449900\n",
              "15  1320      2  299900\n",
              "16  1236      3  199900\n",
              "17  2609      4  499998\n",
              "18  3031      4  599000\n",
              "19  1767      3  252900\n",
              "20  1888      2  255000\n",
              "21  1604      3  242900\n",
              "22  1962      4  259900\n",
              "23  3890      3  573900\n",
              "24  1100      3  249900\n",
              "25  1458      3  464500\n",
              "26  2526      3  469000\n",
              "27  2200      3  475000\n",
              "28  2637      3  299900\n",
              "29  1839      2  349900\n",
              "30  1000      1  169900\n",
              "31  2040      4  314900\n",
              "32  3137      3  579900\n",
              "33  1811      4  285900\n",
              "34  1437      3  249900\n",
              "35  1239      3  229900\n",
              "36  2132      4  345000\n",
              "37  4215      4  549000\n",
              "38  2162      4  287000\n",
              "39  1664      2  368500\n",
              "40  2238      3  329900\n",
              "41  2567      4  314000\n",
              "42  1200      3  299000\n",
              "43   852      2  179900\n",
              "44  1852      4  299900\n",
              "45  1203      3  239500"
            ]
          },
          "metadata": {
            "tags": []
          },
          "execution_count": 432
        }
      ]
    },
    {
      "cell_type": "code",
      "metadata": {
        "colab": {
          "base_uri": "https://localhost:8080/"
        },
        "id": "CFQVkx2h56i8",
        "outputId": "a957813f-89a5-4210-f36b-204054d25d78"
      },
      "source": [
        "y"
      ],
      "execution_count": null,
      "outputs": [
        {
          "output_type": "execute_result",
          "data": {
            "text/plain": [
              "array([329900, 369000, 232000, 539900, 299900, 314900, 198999, 212000,\n",
              "       242500, 239999, 347000, 329999, 699900, 259900, 449900, 299900,\n",
              "       199900, 499998, 599000, 252900, 255000, 242900, 259900, 573900,\n",
              "       249900, 464500, 469000, 475000, 299900, 349900, 169900, 314900,\n",
              "       579900, 285900, 249900, 229900, 345000, 549000, 287000, 368500,\n",
              "       329900, 314000, 299000, 179900, 299900, 239500])"
            ]
          },
          "metadata": {
            "tags": []
          },
          "execution_count": 433
        }
      ]
    },
    {
      "cell_type": "markdown",
      "metadata": {
        "id": "E7ZMZbgY6KRo"
      },
      "source": [
        "# training the model"
      ]
    },
    {
      "cell_type": "code",
      "metadata": {
        "colab": {
          "base_uri": "https://localhost:8080/"
        },
        "id": "BbO1M7i56Gv_",
        "outputId": "bf6f6dde-8262-4baf-8fa0-0156e2603b2e"
      },
      "source": [
        "from sklearn.linear_model import LinearRegression\n",
        "regressor = LinearRegression()\n",
        "regressor.fit(x,y)"
      ],
      "execution_count": null,
      "outputs": [
        {
          "output_type": "execute_result",
          "data": {
            "text/plain": [
              "LinearRegression(copy_X=True, fit_intercept=True, n_jobs=None, normalize=False)"
            ]
          },
          "metadata": {
            "tags": []
          },
          "execution_count": 434
        }
      ]
    },
    {
      "cell_type": "markdown",
      "metadata": {
        "id": "yh6R5LOU6q6K"
      },
      "source": [
        "# predicting using our model"
      ]
    },
    {
      "cell_type": "code",
      "metadata": {
        "id": "uLFpco5m6pN5"
      },
      "source": [
        "y_pred = regressor.predict(x)"
      ],
      "execution_count": null,
      "outputs": []
    },
    {
      "cell_type": "code",
      "metadata": {
        "colab": {
          "base_uri": "https://localhost:8080/"
        },
        "id": "mTIB_hqe7lbO",
        "outputId": "b704dcbb-df2a-463a-cb53-2155994c6805"
      },
      "source": [
        "np.set_printoptions(precision=2)\n",
        "print(np.concatenate((y_pred.reshape(len(y_pred),1),y.reshape(len(y),1)),1))"
      ],
      "execution_count": null,
      "outputs": [
        {
          "output_type": "stream",
          "text": [
            "[[285258.01 329900.  ]\n",
            " [396262.71 369000.  ]\n",
            " [267913.31 232000.  ]\n",
            " [471329.85 539900.  ]\n",
            " [330492.64 299900.  ]\n",
            " [276100.12 314900.  ]\n",
            " [261253.24 198999.  ]\n",
            " [254731.71 212000.  ]\n",
            " [270549.88 242500.  ]\n",
            " [324248.62 239999.  ]\n",
            " [340760.36 347000.  ]\n",
            " [325497.21 329999.  ]\n",
            " [668224.66 699900.  ]\n",
            " [239191.06 259900.  ]\n",
            " [374200.74 449900.  ]\n",
            " [254592.74 299900.  ]\n",
            " [234750.87 199900.  ]\n",
            " [417076.31 499998.  ]\n",
            " [475631.29 599000.  ]\n",
            " [308430.24 252900.  ]\n",
            " [333406.08 255000.  ]\n",
            " [285813.03 242900.  ]\n",
            " [327301.25 259900.  ]\n",
            " [603008.97 573900.  ]\n",
            " [215880.07 249900.  ]\n",
            " [265554.67 464500.  ]\n",
            " [413745.95 469000.  ]\n",
            " [368511.53 475000.  ]\n",
            " [429147.85 299900.  ]\n",
            " [326607.04 349900.  ]\n",
            " [218377.25 169900.  ]\n",
            " [338124.21 314900.  ]\n",
            " [498525.79 579900.  ]\n",
            " [306349.11 285900.  ]\n",
            " [262640.8  249900.  ]\n",
            " [235167.13 229900.  ]\n",
            " [350889.75 345000.  ]\n",
            " [639918.25 549000.  ]\n",
            " [355052.43 287000.  ]\n",
            " [302324.77 368500.  ]\n",
            " [373784.26 329900.  ]\n",
            " [411248.56 314000.  ]\n",
            " [229755.66 299000.  ]\n",
            " [189654.99 179900.  ]\n",
            " [312038.11 299900.  ]\n",
            " [230171.92 239500.  ]]\n"
          ],
          "name": "stdout"
        }
      ]
    },
    {
      "cell_type": "markdown",
      "metadata": {
        "id": "bFEWqJzO9drK"
      },
      "source": [
        "# Gradient descent"
      ]
    },
    {
      "cell_type": "code",
      "metadata": {
        "colab": {
          "base_uri": "https://localhost:8080/"
        },
        "id": "eLaM1onuhE1g",
        "outputId": "802cf0e1-ff32-4c3d-907a-85741ea31ccc"
      },
      "source": [
        "x.shape"
      ],
      "execution_count": null,
      "outputs": [
        {
          "output_type": "execute_result",
          "data": {
            "text/plain": [
              "(46, 2)"
            ]
          },
          "metadata": {
            "tags": []
          },
          "execution_count": 437
        }
      ]
    },
    {
      "cell_type": "code",
      "metadata": {
        "colab": {
          "base_uri": "https://localhost:8080/"
        },
        "id": "OMG5kfxUhUwa",
        "outputId": "cdf04be6-596e-4639-dc3d-dcc9c54e78c9"
      },
      "source": [
        "y.shape"
      ],
      "execution_count": null,
      "outputs": [
        {
          "output_type": "execute_result",
          "data": {
            "text/plain": [
              "(46,)"
            ]
          },
          "metadata": {
            "tags": []
          },
          "execution_count": 438
        }
      ]
    },
    {
      "cell_type": "code",
      "metadata": {
        "id": "TQk1g_0ahXB2"
      },
      "source": [
        "y = y.reshape(y.shape[0],1)"
      ],
      "execution_count": null,
      "outputs": []
    },
    {
      "cell_type": "code",
      "metadata": {
        "colab": {
          "base_uri": "https://localhost:8080/"
        },
        "id": "y-thEJiehkrx",
        "outputId": "3691c5e9-52ee-4346-e7a5-0a6b85178f00"
      },
      "source": [
        "y.shape"
      ],
      "execution_count": null,
      "outputs": [
        {
          "output_type": "execute_result",
          "data": {
            "text/plain": [
              "(46, 1)"
            ]
          },
          "metadata": {
            "tags": []
          },
          "execution_count": 440
        }
      ]
    },
    {
      "cell_type": "code",
      "metadata": {
        "id": "eBR4mfTO6lfg"
      },
      "source": [
        "from sklearn.preprocessing import StandardScaler\n",
        "sc_x = StandardScaler()\n",
        "sc_y = StandardScaler()\n",
        "x = sc_x.fit_transform(x)\n",
        "y = sc_y.fit_transform(y)"
      ],
      "execution_count": null,
      "outputs": []
    },
    {
      "cell_type": "markdown",
      "metadata": {
        "id": "o7YsKIfJitNZ"
      },
      "source": [
        "addings 1s into the matrix"
      ]
    },
    {
      "cell_type": "code",
      "metadata": {
        "id": "To7U_cbbhmLp"
      },
      "source": [
        "x = np.c_[np.ones(x.shape[0]),x]"
      ],
      "execution_count": null,
      "outputs": []
    },
    {
      "cell_type": "code",
      "metadata": {
        "colab": {
          "base_uri": "https://localhost:8080/"
        },
        "id": "gFfq-vx7jGjg",
        "outputId": "56546de3-b881-4a1b-eb19-5f7301733955"
      },
      "source": [
        "x"
      ],
      "execution_count": null,
      "outputs": [
        {
          "output_type": "execute_result",
          "data": {
            "text/plain": [
              "array([[ 1.00e+00, -5.01e-01, -2.29e-01],\n",
              "       [ 1.00e+00,  5.05e-01, -2.29e-01],\n",
              "       [ 1.00e+00, -7.33e-01, -1.54e+00],\n",
              "       [ 1.00e+00,  1.26e+00,  1.09e+00],\n",
              "       [ 1.00e+00, -1.69e-02,  1.09e+00],\n",
              "       [ 1.00e+00, -5.85e-01, -2.29e-01],\n",
              "       [ 1.00e+00, -7.19e-01, -2.29e-01],\n",
              "       [ 1.00e+00, -7.78e-01, -2.29e-01],\n",
              "       [ 1.00e+00, -6.35e-01, -2.29e-01],\n",
              "       [ 1.00e+00, -7.35e-02,  1.09e+00],\n",
              "       [ 1.00e+00,  1.97e-03, -2.29e-01],\n",
              "       [ 1.00e+00, -1.36e-01, -2.29e-01],\n",
              "       [ 1.00e+00,  3.12e+00,  2.40e+00],\n",
              "       [ 1.00e+00, -9.19e-01, -2.29e-01],\n",
              "       [ 1.00e+00,  3.80e-01,  1.09e+00],\n",
              "       [ 1.00e+00, -8.54e-01, -1.54e+00],\n",
              "       [ 1.00e+00, -9.60e-01, -2.29e-01],\n",
              "       [ 1.00e+00,  7.68e-01,  1.09e+00],\n",
              "       [ 1.00e+00,  1.30e+00,  1.09e+00],\n",
              "       [ 1.00e+00, -2.91e-01, -2.29e-01],\n",
              "       [ 1.00e+00, -1.39e-01, -1.54e+00],\n",
              "       [ 1.00e+00, -4.96e-01, -2.29e-01],\n",
              "       [ 1.00e+00, -4.59e-02,  1.09e+00],\n",
              "       [ 1.00e+00,  2.38e+00, -2.29e-01],\n",
              "       [ 1.00e+00, -1.13e+00, -2.29e-01],\n",
              "       [ 1.00e+00, -6.80e-01, -2.29e-01],\n",
              "       [ 1.00e+00,  6.64e-01, -2.29e-01],\n",
              "       [ 1.00e+00,  2.54e-01, -2.29e-01],\n",
              "       [ 1.00e+00,  8.04e-01, -2.29e-01],\n",
              "       [ 1.00e+00, -2.01e-01, -1.54e+00],\n",
              "       [ 1.00e+00, -1.26e+00, -2.86e+00],\n",
              "       [ 1.00e+00,  5.23e-02,  1.09e+00],\n",
              "       [ 1.00e+00,  1.43e+00, -2.29e-01],\n",
              "       [ 1.00e+00, -2.36e-01,  1.09e+00],\n",
              "       [ 1.00e+00, -7.07e-01, -2.29e-01],\n",
              "       [ 1.00e+00, -9.56e-01, -2.29e-01],\n",
              "       [ 1.00e+00,  1.68e-01,  1.09e+00],\n",
              "       [ 1.00e+00,  2.79e+00,  1.09e+00],\n",
              "       [ 1.00e+00,  2.06e-01,  1.09e+00],\n",
              "       [ 1.00e+00, -4.21e-01, -1.54e+00],\n",
              "       [ 1.00e+00,  3.02e-01, -2.29e-01],\n",
              "       [ 1.00e+00,  7.16e-01,  1.09e+00],\n",
              "       [ 1.00e+00, -1.00e+00, -2.29e-01],\n",
              "       [ 1.00e+00, -1.44e+00, -1.54e+00],\n",
              "       [ 1.00e+00, -1.84e-01,  1.09e+00],\n",
              "       [ 1.00e+00, -1.00e+00, -2.29e-01]])"
            ]
          },
          "metadata": {
            "tags": []
          },
          "execution_count": 443
        }
      ]
    },
    {
      "cell_type": "code",
      "metadata": {
        "id": "NiR6zJvB4Zlr"
      },
      "source": [
        ""
      ],
      "execution_count": null,
      "outputs": []
    },
    {
      "cell_type": "markdown",
      "metadata": {
        "id": "30f-9hsYkQ5J"
      },
      "source": [
        "initialising theta matrix"
      ]
    },
    {
      "cell_type": "code",
      "metadata": {
        "id": "MS2exu2ekAze"
      },
      "source": [
        "np.random.seed(123)\n",
        "theta = np.array([[0],[0],[0]])"
      ],
      "execution_count": null,
      "outputs": []
    },
    {
      "cell_type": "code",
      "metadata": {
        "id": "9CD18-Ie37Ho"
      },
      "source": [
        ""
      ],
      "execution_count": null,
      "outputs": []
    },
    {
      "cell_type": "code",
      "metadata": {
        "colab": {
          "base_uri": "https://localhost:8080/"
        },
        "id": "XidV91W5lR2Q",
        "outputId": "9427bf24-d7b0-44d3-aa34-1e863e58bff2"
      },
      "source": [
        "theta"
      ],
      "execution_count": null,
      "outputs": [
        {
          "output_type": "execute_result",
          "data": {
            "text/plain": [
              "array([[0],\n",
              "       [0],\n",
              "       [0]])"
            ]
          },
          "metadata": {
            "tags": []
          },
          "execution_count": 445
        }
      ]
    },
    {
      "cell_type": "markdown",
      "metadata": {
        "id": "yIbgqepalZ3f"
      },
      "source": [
        "forward propogation"
      ]
    },
    {
      "cell_type": "code",
      "metadata": {
        "id": "XzWMDugplS7r"
      },
      "source": [
        "m = y.size"
      ],
      "execution_count": null,
      "outputs": []
    },
    {
      "cell_type": "code",
      "metadata": {
        "colab": {
          "base_uri": "https://localhost:8080/"
        },
        "id": "E4uV38dbloXW",
        "outputId": "45b83dfe-f5fd-49c6-f1df-ecfd810a05f2"
      },
      "source": [
        "m"
      ],
      "execution_count": null,
      "outputs": [
        {
          "output_type": "execute_result",
          "data": {
            "text/plain": [
              "46"
            ]
          },
          "metadata": {
            "tags": []
          },
          "execution_count": 447
        }
      ]
    },
    {
      "cell_type": "code",
      "metadata": {
        "id": "RD_o6fd7lpN6"
      },
      "source": [
        "h_theta = np.dot(x,theta)"
      ],
      "execution_count": null,
      "outputs": []
    },
    {
      "cell_type": "code",
      "metadata": {
        "colab": {
          "base_uri": "https://localhost:8080/"
        },
        "id": "YECtMwG-lvEp",
        "outputId": "872c09ab-b51a-4d15-a1ce-a099efd5e8f5"
      },
      "source": [
        "h_theta"
      ],
      "execution_count": null,
      "outputs": [
        {
          "output_type": "execute_result",
          "data": {
            "text/plain": [
              "array([[0.],\n",
              "       [0.],\n",
              "       [0.],\n",
              "       [0.],\n",
              "       [0.],\n",
              "       [0.],\n",
              "       [0.],\n",
              "       [0.],\n",
              "       [0.],\n",
              "       [0.],\n",
              "       [0.],\n",
              "       [0.],\n",
              "       [0.],\n",
              "       [0.],\n",
              "       [0.],\n",
              "       [0.],\n",
              "       [0.],\n",
              "       [0.],\n",
              "       [0.],\n",
              "       [0.],\n",
              "       [0.],\n",
              "       [0.],\n",
              "       [0.],\n",
              "       [0.],\n",
              "       [0.],\n",
              "       [0.],\n",
              "       [0.],\n",
              "       [0.],\n",
              "       [0.],\n",
              "       [0.],\n",
              "       [0.],\n",
              "       [0.],\n",
              "       [0.],\n",
              "       [0.],\n",
              "       [0.],\n",
              "       [0.],\n",
              "       [0.],\n",
              "       [0.],\n",
              "       [0.],\n",
              "       [0.],\n",
              "       [0.],\n",
              "       [0.],\n",
              "       [0.],\n",
              "       [0.],\n",
              "       [0.],\n",
              "       [0.]])"
            ]
          },
          "metadata": {
            "tags": []
          },
          "execution_count": 449
        }
      ]
    },
    {
      "cell_type": "code",
      "metadata": {
        "id": "kxBt4M-vlwRS"
      },
      "source": [
        "error = h_theta-y"
      ],
      "execution_count": null,
      "outputs": []
    },
    {
      "cell_type": "code",
      "metadata": {
        "colab": {
          "base_uri": "https://localhost:8080/"
        },
        "id": "r6LBcQoLmjwc",
        "outputId": "e1a08eb1-11c7-4272-f845-a82c428c9a1a"
      },
      "source": [
        "error"
      ],
      "execution_count": null,
      "outputs": [
        {
          "output_type": "execute_result",
          "data": {
            "text/plain": [
              "array([[ 0.07],\n",
              "       [-0.24],\n",
              "       [ 0.86],\n",
              "       [-1.61],\n",
              "       [ 0.31],\n",
              "       [ 0.19],\n",
              "       [ 1.12],\n",
              "       [ 1.02],\n",
              "       [ 0.77],\n",
              "       [ 0.79],\n",
              "       [-0.06],\n",
              "       [ 0.07],\n",
              "       [-2.89],\n",
              "       [ 0.64],\n",
              "       [-0.89],\n",
              "       [ 0.31],\n",
              "       [ 1.12],\n",
              "       [-1.29],\n",
              "       [-2.08],\n",
              "       [ 0.69],\n",
              "       [ 0.67],\n",
              "       [ 0.77],\n",
              "       [ 0.64],\n",
              "       [-1.88],\n",
              "       [ 0.72],\n",
              "       [-1.01],\n",
              "       [-1.04],\n",
              "       [-1.09],\n",
              "       [ 0.31],\n",
              "       [-0.09],\n",
              "       [ 1.36],\n",
              "       [ 0.19],\n",
              "       [-1.93],\n",
              "       [ 0.43],\n",
              "       [ 0.72],\n",
              "       [ 0.88],\n",
              "       [-0.05],\n",
              "       [-1.68],\n",
              "       [ 0.42],\n",
              "       [-0.24],\n",
              "       [ 0.07],\n",
              "       [ 0.2 ],\n",
              "       [ 0.32],\n",
              "       [ 1.28],\n",
              "       [ 0.31],\n",
              "       [ 0.8 ]])"
            ]
          },
          "metadata": {
            "tags": []
          },
          "execution_count": 451
        }
      ]
    },
    {
      "cell_type": "code",
      "metadata": {
        "id": "N9URewkAl04m"
      },
      "source": [
        "cost = (1/2)*(1/m)*np.dot(error.T,error)"
      ],
      "execution_count": null,
      "outputs": []
    },
    {
      "cell_type": "code",
      "metadata": {
        "colab": {
          "base_uri": "https://localhost:8080/"
        },
        "id": "7xS6qTmimQwU",
        "outputId": "4b2a85e3-ebb3-476c-d541-e36dc7440f99"
      },
      "source": [
        "cost"
      ],
      "execution_count": null,
      "outputs": [
        {
          "output_type": "execute_result",
          "data": {
            "text/plain": [
              "array([[0.5]])"
            ]
          },
          "metadata": {
            "tags": []
          },
          "execution_count": 453
        }
      ]
    },
    {
      "cell_type": "markdown",
      "metadata": {
        "id": "mYk-afkbnZ6G"
      },
      "source": [
        "backward propogation"
      ]
    },
    {
      "cell_type": "code",
      "metadata": {
        "id": "3k5iybVCmSTD"
      },
      "source": [
        "alpha = 0.01"
      ],
      "execution_count": null,
      "outputs": []
    },
    {
      "cell_type": "code",
      "metadata": {
        "id": "in9ItCstqs7f"
      },
      "source": [
        "theta = theta -(alpha*(1/m)*np.dot(x.T,error))"
      ],
      "execution_count": null,
      "outputs": []
    },
    {
      "cell_type": "code",
      "metadata": {
        "colab": {
          "base_uri": "https://localhost:8080/"
        },
        "id": "VsTDx8Wirokp",
        "outputId": "d2b8b93b-7456-4b5a-9089-dac38d88a758"
      },
      "source": [
        "theta"
      ],
      "execution_count": null,
      "outputs": [
        {
          "output_type": "execute_result",
          "data": {
            "text/plain": [
              "array([[-4.34e-19],\n",
              "       [ 8.56e-03],\n",
              "       [ 4.46e-03]])"
            ]
          },
          "metadata": {
            "tags": []
          },
          "execution_count": 456
        }
      ]
    },
    {
      "cell_type": "code",
      "metadata": {
        "id": "-xuLafmJrpqZ"
      },
      "source": [
        "new_h_theta = np.dot(x,theta)"
      ],
      "execution_count": null,
      "outputs": []
    },
    {
      "cell_type": "code",
      "metadata": {
        "id": "bUJLp2nsr8iJ"
      },
      "source": [
        "new_error = new_h_theta - y"
      ],
      "execution_count": null,
      "outputs": []
    },
    {
      "cell_type": "code",
      "metadata": {
        "id": "2a9z09n0sDvf"
      },
      "source": [
        "new_cost = (1/2)*(1/m)*np.dot(new_error.T,new_error)"
      ],
      "execution_count": null,
      "outputs": []
    },
    {
      "cell_type": "code",
      "metadata": {
        "colab": {
          "base_uri": "https://localhost:8080/"
        },
        "id": "pgs9XB2ksWf6",
        "outputId": "31de2274-b758-4111-c99b-52324bb7b127"
      },
      "source": [
        "new_cost"
      ],
      "execution_count": null,
      "outputs": [
        {
          "output_type": "execute_result",
          "data": {
            "text/plain": [
              "array([[0.49]])"
            ]
          },
          "metadata": {
            "tags": []
          },
          "execution_count": 460
        }
      ]
    },
    {
      "cell_type": "markdown",
      "metadata": {
        "id": "NfyyF-1fsaPv"
      },
      "source": [
        "backwards propogation with epoch"
      ]
    },
    {
      "cell_type": "code",
      "metadata": {
        "id": "pYFUQBqQsXf8"
      },
      "source": [
        "epoch = 10000"
      ],
      "execution_count": null,
      "outputs": []
    },
    {
      "cell_type": "code",
      "metadata": {
        "id": "ny7IIu_uss7r"
      },
      "source": [
        "def GD(x,y,epoch,alpha,theta):\n",
        "  past_cost = []\n",
        "  past_theta = [theta]\n",
        "\n",
        "\n",
        "  for i in range(epoch):\n",
        "    h_theta = np.dot(x,theta)\n",
        "    error = h_theta - y\n",
        "    cost = (1/2)*(1/m)*np.dot(error.T,error)\n",
        "    past_cost.append(cost)\n",
        "    theta = theta - alpha*(1/m)*np.dot(x.T,error)\n",
        "    past_theta.append(theta)\n",
        "\n",
        "\n",
        "    try:\n",
        "      if past_cost[-1]==past_cost[-2]:\n",
        "        break\n",
        "      else:\n",
        "        continue\n",
        "    except:\n",
        "      pass\n",
        "  return past_cost,past_theta"
      ],
      "execution_count": null,
      "outputs": []
    },
    {
      "cell_type": "code",
      "metadata": {
        "id": "lvgtH3ohv9bx"
      },
      "source": [
        "past_cost,past_theta = GD(x,y,epoch,alpha,theta)"
      ],
      "execution_count": null,
      "outputs": []
    },
    {
      "cell_type": "code",
      "metadata": {
        "colab": {
          "base_uri": "https://localhost:8080/"
        },
        "id": "iGNLGqkBwVgQ",
        "outputId": "c4563840-3403-4241-b170-b273f81339b1"
      },
      "source": [
        "past_cost[-1]"
      ],
      "execution_count": null,
      "outputs": [
        {
          "output_type": "execute_result",
          "data": {
            "text/plain": [
              "array([[0.13]])"
            ]
          },
          "metadata": {
            "tags": []
          },
          "execution_count": 464
        }
      ]
    },
    {
      "cell_type": "code",
      "metadata": {
        "id": "HYNsGt9XwZHZ"
      },
      "source": [
        "c = np.asarray((past_cost))"
      ],
      "execution_count": null,
      "outputs": []
    },
    {
      "cell_type": "code",
      "metadata": {
        "colab": {
          "base_uri": "https://localhost:8080/"
        },
        "id": "gMFqGY8GwrwQ",
        "outputId": "0923b3e9-5d6d-4292-f818-4874acd7e364"
      },
      "source": [
        "c.shape[0]"
      ],
      "execution_count": null,
      "outputs": [
        {
          "output_type": "execute_result",
          "data": {
            "text/plain": [
              "3414"
            ]
          },
          "metadata": {
            "tags": []
          },
          "execution_count": 466
        }
      ]
    },
    {
      "cell_type": "code",
      "metadata": {
        "id": "1aP-nVLPxAH4"
      },
      "source": [
        "c = c.reshape(c.size,1)"
      ],
      "execution_count": null,
      "outputs": []
    },
    {
      "cell_type": "code",
      "metadata": {
        "colab": {
          "base_uri": "https://localhost:8080/"
        },
        "id": "9rZpjZPWxsK7",
        "outputId": "62702a74-a3b9-4516-e943-5dcc8c988496"
      },
      "source": [
        "c.shape"
      ],
      "execution_count": null,
      "outputs": [
        {
          "output_type": "execute_result",
          "data": {
            "text/plain": [
              "(3414, 1)"
            ]
          },
          "metadata": {
            "tags": []
          },
          "execution_count": 468
        }
      ]
    },
    {
      "cell_type": "code",
      "metadata": {
        "colab": {
          "base_uri": "https://localhost:8080/",
          "height": 295
        },
        "id": "upR8f99Mx3Lr",
        "outputId": "d6c0d659-04a2-479b-cb41-75614db71f7e"
      },
      "source": [
        "plt.plot(c)\n",
        "plt.xlabel(\"epochs\")\n",
        "plt.ylabel(\"cost\")\n",
        "plt.title(\"cost vs epochs\")\n",
        "plt.show()"
      ],
      "execution_count": null,
      "outputs": [
        {
          "output_type": "display_data",
          "data": {
            "image/png": "[encoded data removed]",
            "text/plain": [
              "<Figure size 432x288 with 1 Axes>"
            ]
          },
          "metadata": {
            "tags": [],
            "needs_background": "light"
          }
        }
      ]
    }
  ]
}