{
  "nbformat": 4,
  "nbformat_minor": 5,
  "metadata": {
    "kernelspec": {
      "display_name": "Python 3",
      "language": "python",
      "name": "python3"
    },
    "language_info": {
      "codemirror_mode": {
        "name": "ipython",
        "version": 3
      },
      "file_extension": ".py",
      "mimetype": "text/x-python",
      "name": "python",
      "nbconvert_exporter": "python",
      "pygments_lexer": "ipython3",
      "version": "3.8.8"
    },
    "colab": {
      "name": "Lecture 4 Linear Regression - Different Models and Interpretation.ipynb",
      "provenance": []
    }
  },
  "cells": [
    {
      "cell_type": "markdown",
      "metadata": {
        "id": "IK64n8WI8e3D"
      },
      "source": [
        "# Linear Regression: Different Models and Interpretation\n",
        "Shehzeen Khan, J028\n",
        "B.Tech Data Science, Semester 5"
      ],
      "id": "IK64n8WI8e3D"
    },
    {
      "cell_type": "markdown",
      "metadata": {
        "id": "11a868f5"
      },
      "source": [
        "## Regression:\n",
        " * Searches for relationships among variables\n",
        " * Find the function that maps independent variables (inputs/features) to dependent variables (output/responses)\n",
        " * Dependent variable is usually continuous and unbounded"
      ],
      "id": "11a868f5"
    },
    {
      "cell_type": "markdown",
      "metadata": {
        "id": "2f247c31"
      },
      "source": [
        "# Linear Regression\n",
        "\n",
        "𝑦 = $\\theta$₀𝑥₀ + $\\theta$₁𝑥₁ + ⋯ + $\\theta$ᵣ𝑥ᵣ + 𝜀 ...(𝑥₀ = 1)\n",
        "\n",
        "y - output\n",
        "\n",
        "$\\theta$₀....$\\theta$ᵣ - parameters\n",
        "\n",
        "𝑥₀....𝑥ᵣ - features/inputs\n",
        "\n",
        "𝜀- error"
      ],
      "id": "2f247c31"
    },
    {
      "cell_type": "markdown",
      "metadata": {
        "id": "2bb6d7ab"
      },
      "source": [
        "## Regression performance\n",
        "\n",
        "* coefficient of determination, denoted as 𝑅², tells you which amount of variation in 𝑦 can be explained by the dependence on 𝐱 using the particular regression model"
      ],
      "id": "2bb6d7ab"
    },
    {
      "cell_type": "markdown",
      "metadata": {
        "id": "8a130e93"
      },
      "source": [
        "## Types of regressions\n",
        "\n",
        "* Linear regression (univariate)\n",
        "* Multiple variable Linear regression (multivariate)\n",
        "* Polynomial Linear Regression (introduce powers and nonlinear terms e.g 𝑥₁², 𝑥₁𝑥₂, f(𝑥₁,𝑥₂) = $\\theta$₀ + $\\theta$₁𝑥₁² + $\\theta$₂𝑥₂𝑥₁) \n",
        "    * Here we solve the polynomial term as a linear problem where 𝑥₁² is a distinct feature seperate from 𝑥₁"
      ],
      "id": "8a130e93"
    },
    {
      "cell_type": "markdown",
      "metadata": {
        "id": "66103401"
      },
      "source": [
        "## Implementation in Python"
      ],
      "id": "66103401"
    },
    {
      "cell_type": "code",
      "metadata": {
        "id": "dc59ad08"
      },
      "source": [
        "import numpy as np\n",
        "from sklearn.linear_model import LinearRegression"
      ],
      "id": "dc59ad08",
      "execution_count": null,
      "outputs": []
    },
    {
      "cell_type": "markdown",
      "metadata": {
        "id": "8a3c2d02"
      },
      "source": [
        "### Univariate"
      ],
      "id": "8a3c2d02"
    },
    {
      "cell_type": "code",
      "metadata": {
        "id": "174e38f4"
      },
      "source": [
        "x = np.array([5, 15, 25, 45, 37, 67, 55]).reshape((-1,1))\n",
        "y = np.array([110, 220, 310, 560, 412, 732, 640])"
      ],
      "id": "174e38f4",
      "execution_count": null,
      "outputs": []
    },
    {
      "cell_type": "code",
      "metadata": {
        "id": "dd44e22e",
        "outputId": "702bdd20-d6ab-4dcc-a88c-7e331dac218d"
      },
      "source": [
        "x.shape, y.shape"
      ],
      "id": "dd44e22e",
      "execution_count": null,
      "outputs": [
        {
          "data": {
            "text/plain": [
              "((7, 1), (7,))"
            ]
          },
          "execution_count": 28,
          "metadata": {},
          "output_type": "execute_result"
        }
      ]
    },
    {
      "cell_type": "code",
      "metadata": {
        "id": "44551e02"
      },
      "source": [
        "model = LinearRegression().fit(x,y)"
      ],
      "id": "44551e02",
      "execution_count": null,
      "outputs": []
    },
    {
      "cell_type": "code",
      "metadata": {
        "id": "391b2138",
        "outputId": "772de839-6cfe-44d8-a314-13b987e85e7c"
      },
      "source": [
        "r_sq = model.score(x,y)\n",
        "print(f'R square  (coefficient of determination): {r_sq}')"
      ],
      "id": "391b2138",
      "execution_count": null,
      "outputs": [
        {
          "name": "stdout",
          "output_type": "stream",
          "text": [
            "R square  (coefficient of determination): 0.9911353350742254\n"
          ]
        }
      ]
    },
    {
      "cell_type": "code",
      "metadata": {
        "id": "ee5224e8",
        "outputId": "2bfc59ad-3b02-40c8-ebef-72507cd048d4"
      },
      "source": [
        "print(f'intercept (𝜃0): {model.intercept_}')\n",
        "print(f'slope (𝜃1): {model.coef_}')"
      ],
      "id": "ee5224e8",
      "execution_count": null,
      "outputs": [
        {
          "name": "stdout",
          "output_type": "stream",
          "text": [
            "intercept (𝜃0): 59.802734374999886\n",
            "slope (𝜃1): [10.30273438]\n"
          ]
        }
      ]
    },
    {
      "cell_type": "code",
      "metadata": {
        "id": "19718535",
        "outputId": "46b0a4f1-f4e8-46c5-a405-0aea4da3967b"
      },
      "source": [
        "y_pred = model.predict(x)\n",
        "y_pred"
      ],
      "id": "19718535",
      "execution_count": null,
      "outputs": [
        {
          "data": {
            "text/plain": [
              "array([111.31640625, 214.34375   , 317.37109375, 523.42578125,\n",
              "       441.00390625, 750.0859375 , 626.453125  ])"
            ]
          },
          "execution_count": 32,
          "metadata": {},
          "output_type": "execute_result"
        }
      ]
    },
    {
      "cell_type": "code",
      "metadata": {
        "id": "7c854e45",
        "outputId": "78b96a00-b12c-402a-8dd7-fe41496da968"
      },
      "source": [
        "y_pred = model.intercept_ + model.coef_*x\n",
        "y_pred"
      ],
      "id": "7c854e45",
      "execution_count": null,
      "outputs": [
        {
          "data": {
            "text/plain": [
              "array([[111.31640625],\n",
              "       [214.34375   ],\n",
              "       [317.37109375],\n",
              "       [523.42578125],\n",
              "       [441.00390625],\n",
              "       [750.0859375 ],\n",
              "       [626.453125  ]])"
            ]
          },
          "execution_count": 33,
          "metadata": {},
          "output_type": "execute_result"
        }
      ]
    },
    {
      "cell_type": "code",
      "metadata": {
        "id": "e819bc75",
        "outputId": "8b0407a3-1ae9-4d04-b695-49ae8f1ce2e2"
      },
      "source": [
        "y_pred_new = model.predict(np.arange(10).reshape(-1,1))\n",
        "y_pred_new"
      ],
      "id": "e819bc75",
      "execution_count": null,
      "outputs": [
        {
          "data": {
            "text/plain": [
              "array([ 59.80273437,  70.10546875,  80.40820312,  90.7109375 ,\n",
              "       101.01367187, 111.31640625, 121.61914062, 131.921875  ,\n",
              "       142.22460937, 152.52734375])"
            ]
          },
          "execution_count": 34,
          "metadata": {},
          "output_type": "execute_result"
        }
      ]
    },
    {
      "cell_type": "markdown",
      "metadata": {
        "id": "23f5efa6"
      },
      "source": [
        "### Multivariate Linear Regression"
      ],
      "id": "23f5efa6"
    },
    {
      "cell_type": "code",
      "metadata": {
        "id": "b4d82ff7"
      },
      "source": [
        "x = np.array([[5,45,78], [15,37,38], [25,47,29], [45,34,89], [37,26,18], [67,17,49], [55,16,18]])\n",
        "y = np.array([110, 220, 310, 560, 412, 732, 640])"
      ],
      "id": "b4d82ff7",
      "execution_count": null,
      "outputs": []
    },
    {
      "cell_type": "code",
      "metadata": {
        "id": "bd7672b3",
        "outputId": "7af38a9f-3ea6-4590-e65d-944da80c744d"
      },
      "source": [
        "model = LinearRegression().fit(x,y)\n",
        "\n",
        "r_sq = model.score(x,y)\n",
        "print(f'R square  (coefficient of determination): {r_sq}')"
      ],
      "id": "bd7672b3",
      "execution_count": null,
      "outputs": [
        {
          "name": "stdout",
          "output_type": "stream",
          "text": [
            "R square  (coefficient of determination): 0.993871363946136\n"
          ]
        }
      ]
    },
    {
      "cell_type": "code",
      "metadata": {
        "id": "f3ea4635",
        "outputId": "0ffe0fcf-b114-412a-f604-61874fb02389"
      },
      "source": [
        "print(f'intercept (𝜃0): {model.intercept_}')\n",
        "print(f'coefficients (𝜃): {model.coef_}')"
      ],
      "id": "f3ea4635",
      "execution_count": null,
      "outputs": [
        {
          "name": "stdout",
          "output_type": "stream",
          "text": [
            "intercept (𝜃0): 32.22988777391873\n",
            "coefficients (𝜃): [10.45292976  0.09564294  0.42124935]\n"
          ]
        }
      ]
    },
    {
      "cell_type": "code",
      "metadata": {
        "id": "35d81bc5",
        "outputId": "e64b7661-4b77-4773-969f-682018dc5380"
      },
      "source": [
        "y_pred = model.predict(x)\n",
        "y_pred"
      ],
      "id": "35d81bc5",
      "execution_count": null,
      "outputs": [
        {
          "data": {
            "text/plain": [
              "array([121.65591833, 208.57009829, 310.2645811 , 543.35477916,\n",
              "       429.05749357, 754.84332975, 616.2537998 ])"
            ]
          },
          "execution_count": 64,
          "metadata": {},
          "output_type": "execute_result"
        }
      ]
    },
    {
      "cell_type": "code",
      "metadata": {
        "id": "bd370bd9",
        "outputId": "600ec152-6f4d-403d-b9e3-b9ec81a80e8c"
      },
      "source": [
        "y_pred = model.intercept_ + np.sum(model.coef_*x,axis =1)\n",
        "y_pred"
      ],
      "id": "bd370bd9",
      "execution_count": null,
      "outputs": [
        {
          "data": {
            "text/plain": [
              "array([121.65591833, 208.57009829, 310.2645811 , 543.35477916,\n",
              "       429.05749357, 754.84332975, 616.2537998 ])"
            ]
          },
          "execution_count": 45,
          "metadata": {},
          "output_type": "execute_result"
        }
      ]
    },
    {
      "cell_type": "markdown",
      "metadata": {
        "id": "3a5dfa81"
      },
      "source": [
        "### Polynomial Regression"
      ],
      "id": "3a5dfa81"
    },
    {
      "cell_type": "code",
      "metadata": {
        "id": "9abb6f48"
      },
      "source": [
        "from sklearn.preprocessing import PolynomialFeatures"
      ],
      "id": "9abb6f48",
      "execution_count": null,
      "outputs": []
    },
    {
      "cell_type": "code",
      "metadata": {
        "id": "9e8b8c5f"
      },
      "source": [
        "x = np.array([5, 15, 25, 45, 37, 67, 55]).reshape((-1,1))\n",
        "y = np.array([110, 220, 310, 560, 412, 732, 640])"
      ],
      "id": "9e8b8c5f",
      "execution_count": null,
      "outputs": []
    },
    {
      "cell_type": "markdown",
      "metadata": {
        "id": "f8906fda"
      },
      "source": [
        "#### include_bias = False in Polynomial feature transformer"
      ],
      "id": "f8906fda"
    },
    {
      "cell_type": "code",
      "metadata": {
        "id": "2d951a04",
        "outputId": "20ed1b14-6042-4e22-ba1f-82c4b42c5794"
      },
      "source": [
        "transformer = PolynomialFeatures(degree=2, include_bias=False)\n",
        "transformer.fit(x)\n",
        "x_ = transformer.transform(x)\n",
        "print(x_)\n",
        "\n",
        "model = LinearRegression().fit(x_,y)\n",
        "\n",
        "r_sq = model.score(x_,y)\n",
        "print(f'R square  (coefficient of determination): {r_sq}')\n",
        "\n",
        "print(f'intercept (𝜃0): {model.intercept_}')\n",
        "print(f'coefficients (𝜃): {model.coef_}')"
      ],
      "id": "2d951a04",
      "execution_count": null,
      "outputs": [
        {
          "name": "stdout",
          "output_type": "stream",
          "text": [
            "[[   5.   25.]\n",
            " [  15.  225.]\n",
            " [  25.  625.]\n",
            " [  45. 2025.]\n",
            " [  37. 1369.]\n",
            " [  67. 4489.]\n",
            " [  55. 3025.]]\n",
            "R square  (coefficient of determination): 0.9914155330813881\n",
            "intercept (𝜃0): 51.645334294410304\n",
            "coefficients (𝜃): [ 1.09827006e+01 -9.52302405e-03]\n"
          ]
        }
      ]
    },
    {
      "cell_type": "markdown",
      "metadata": {
        "id": "10ef26ac"
      },
      "source": [
        "#### include_bias = True in Polynomial feature transformer"
      ],
      "id": "10ef26ac"
    },
    {
      "cell_type": "code",
      "metadata": {
        "id": "f5404e49",
        "outputId": "81b0e162-c179-4aa9-8f90-099fefdfcedd"
      },
      "source": [
        "transformer = PolynomialFeatures(degree=2, include_bias=True)\n",
        "transformer.fit(x)\n",
        "x_ = transformer.transform(x)\n",
        "print(x_)\n",
        "\n",
        "model = LinearRegression().fit(x_,y)\n",
        "\n",
        "r_sq = model.score(x_,y)\n",
        "print(f'R square  (coefficient of determination): {r_sq}')\n",
        "\n",
        "print(f'intercept (𝜃0): {model.intercept_}')\n",
        "print(f'coefficients (𝜃): {model.coef_}')"
      ],
      "id": "f5404e49",
      "execution_count": null,
      "outputs": [
        {
          "name": "stdout",
          "output_type": "stream",
          "text": [
            "[[1.000e+00 5.000e+00 2.500e+01]\n",
            " [1.000e+00 1.500e+01 2.250e+02]\n",
            " [1.000e+00 2.500e+01 6.250e+02]\n",
            " [1.000e+00 4.500e+01 2.025e+03]\n",
            " [1.000e+00 3.700e+01 1.369e+03]\n",
            " [1.000e+00 6.700e+01 4.489e+03]\n",
            " [1.000e+00 5.500e+01 3.025e+03]]\n",
            "R square  (coefficient of determination): 0.991415533081388\n",
            "intercept (𝜃0): 51.64533429440519\n",
            "coefficients (𝜃): [ 0.00000000e+00  1.09827006e+01 -9.52302405e-03]\n"
          ]
        }
      ]
    },
    {
      "cell_type": "code",
      "metadata": {
        "id": "53993e61"
      },
      "source": [
        ""
      ],
      "id": "53993e61",
      "execution_count": null,
      "outputs": []
    },
    {
      "cell_type": "markdown",
      "metadata": {
        "id": "da6a81af"
      },
      "source": [
        "# Advanced Linear Regression with statsmodel"
      ],
      "id": "da6a81af"
    },
    {
      "cell_type": "code",
      "metadata": {
        "id": "efbc085c"
      },
      "source": [
        "import statsmodels.api as sm"
      ],
      "id": "efbc085c",
      "execution_count": null,
      "outputs": []
    },
    {
      "cell_type": "code",
      "metadata": {
        "id": "0198cccd"
      },
      "source": [
        "x = [[0, 1], [5, 1], [15, 2], [25, 5], [35, 11], [45, 15], [55, 34], [60, 35]]\n",
        "y = [4, 5, 20, 14, 32, 22, 38, 43]\n",
        "x, y = np.array(x), np.array(y)"
      ],
      "id": "0198cccd",
      "execution_count": null,
      "outputs": []
    },
    {
      "cell_type": "code",
      "metadata": {
        "id": "9c784d7a",
        "outputId": "9264058b-73fc-4a83-9f2b-d6be190d83c5"
      },
      "source": [
        "x =sm.add_constant(x) #adds bias term\n",
        "x"
      ],
      "id": "9c784d7a",
      "execution_count": null,
      "outputs": [
        {
          "data": {
            "text/plain": [
              "array([[ 1.,  0.,  1.],\n",
              "       [ 1.,  5.,  1.],\n",
              "       [ 1., 15.,  2.],\n",
              "       [ 1., 25.,  5.],\n",
              "       [ 1., 35., 11.],\n",
              "       [ 1., 45., 15.],\n",
              "       [ 1., 55., 34.],\n",
              "       [ 1., 60., 35.]])"
            ]
          },
          "execution_count": 70,
          "metadata": {},
          "output_type": "execute_result"
        }
      ]
    },
    {
      "cell_type": "code",
      "metadata": {
        "id": "f6179b76",
        "outputId": "56b1bf37-a938-4f0a-9fc0-759f58c503fc"
      },
      "source": [
        "model = sm.OLS(y,x)\n",
        "results = model.fit()\n",
        "print(results.summary())"
      ],
      "id": "f6179b76",
      "execution_count": null,
      "outputs": [
        {
          "name": "stdout",
          "output_type": "stream",
          "text": [
            "                            OLS Regression Results                            \n",
            "==============================================================================\n",
            "Dep. Variable:                      y   R-squared:                       0.862\n",
            "Model:                            OLS   Adj. R-squared:                  0.806\n",
            "Method:                 Least Squares   F-statistic:                     15.56\n",
            "Date:                Sun, 08 Aug 2021   Prob (F-statistic):            0.00713\n",
            "Time:                        12:43:04   Log-Likelihood:                -24.316\n",
            "No. Observations:                   8   AIC:                             54.63\n",
            "Df Residuals:                       5   BIC:                             54.87\n",
            "Df Model:                           2                                         \n",
            "Covariance Type:            nonrobust                                         \n",
            "==============================================================================\n",
            "                 coef    std err          t      P>|t|      [0.025      0.975]\n",
            "------------------------------------------------------------------------------\n",
            "const          5.5226      4.431      1.246      0.268      -5.867      16.912\n",
            "x1             0.4471      0.285      1.567      0.178      -0.286       1.180\n",
            "x2             0.2550      0.453      0.563      0.598      -0.910       1.420\n",
            "==============================================================================\n",
            "Omnibus:                        0.561   Durbin-Watson:                   3.268\n",
            "Prob(Omnibus):                  0.755   Jarque-Bera (JB):                0.534\n",
            "Skew:                           0.380   Prob(JB):                        0.766\n",
            "Kurtosis:                       1.987   Cond. No.                         80.1\n",
            "==============================================================================\n",
            "\n",
            "Notes:\n",
            "[1] Standard Errors assume that the covariance matrix of the errors is correctly specified.\n"
          ]
        },
        {
          "name": "stderr",
          "output_type": "stream",
          "text": [
            "C:\\Users\\Devansh\\anaconda3\\lib\\site-packages\\scipy\\stats\\stats.py:1603: UserWarning: kurtosistest only valid for n>=20 ... continuing anyway, n=8\n",
            "  warnings.warn(\"kurtosistest only valid for n>=20 ... continuing \"\n"
          ]
        }
      ]
    },
    {
      "cell_type": "code",
      "metadata": {
        "id": "06cb692b",
        "outputId": "4099e115-6aa4-4957-9982-1697d5ebfabc"
      },
      "source": [
        "results.fittedvalues, y"
      ],
      "id": "06cb692b",
      "execution_count": null,
      "outputs": [
        {
          "data": {
            "text/plain": [
              "(array([ 5.77760476,  8.012953  , 12.73867497, 17.9744479 , 23.97529728,\n",
              "        29.4660957 , 38.78227633, 41.27265006]),\n",
              " array([ 4,  5, 20, 14, 32, 22, 38, 43]))"
            ]
          },
          "execution_count": 79,
          "metadata": {},
          "output_type": "execute_result"
        }
      ]
    },
    {
      "cell_type": "code",
      "metadata": {
        "id": "940ea644",
        "outputId": "28cbb6ae-f44b-41a1-9b98-5c432d7ab8f1"
      },
      "source": [
        "results.predict(sm.add_constant(np.arange(10).reshape((-1,2)))), np.arange(10).reshape((-1,2))"
      ],
      "id": "940ea644",
      "execution_count": null,
      "outputs": [
        {
          "data": {
            "text/plain": [
              "(array([ 5.77760476,  7.18179502,  8.58598528,  9.99017554, 11.3943658 ]),\n",
              " array([[0, 1],\n",
              "        [2, 3],\n",
              "        [4, 5],\n",
              "        [6, 7],\n",
              "        [8, 9]]))"
            ]
          },
          "execution_count": 81,
          "metadata": {},
          "output_type": "execute_result"
        }
      ]
    },
    {
      "cell_type": "markdown",
      "metadata": {
        "id": "7c61d076"
      },
      "source": [
        "# Interpreting Linear Regression results using statsmodel api"
      ],
      "id": "7c61d076"
    },
    {
      "cell_type": "code",
      "metadata": {
        "id": "d8c0b91e"
      },
      "source": [
        "import statsmodels.api as sm\n",
        "import statsmodels.formula.api as smf\n",
        "import numpy as np\n",
        "import pandas"
      ],
      "id": "d8c0b91e",
      "execution_count": null,
      "outputs": []
    },
    {
      "cell_type": "code",
      "metadata": {
        "id": "d7f6272c",
        "outputId": "6dfbadd2-4d66-4448-82ba-4f5f4658b9af"
      },
      "source": [
        "df = sm.datasets.get_rdataset(\"Guerry\", \"HistData\").data\n",
        "df = df[['Lottery', 'Literacy', 'Wealth', 'Region']].dropna()\n",
        "df.head()"
      ],
      "id": "d7f6272c",
      "execution_count": null,
      "outputs": [
        {
          "data": {
            "text/html": [
              "<div>\n",
              "<style scoped>\n",
              "    .dataframe tbody tr th:only-of-type {\n",
              "        vertical-align: middle;\n",
              "    }\n",
              "\n",
              "    .dataframe tbody tr th {\n",
              "        vertical-align: top;\n",
              "    }\n",
              "\n",
              "    .dataframe thead th {\n",
              "        text-align: right;\n",
              "    }\n",
              "</style>\n",
              "<table border=\"1\" class=\"dataframe\">\n",
              "  <thead>\n",
              "    <tr style=\"text-align: right;\">\n",
              "      <th></th>\n",
              "      <th>Lottery</th>\n",
              "      <th>Literacy</th>\n",
              "      <th>Wealth</th>\n",
              "      <th>Region</th>\n",
              "    </tr>\n",
              "  </thead>\n",
              "  <tbody>\n",
              "    <tr>\n",
              "      <th>0</th>\n",
              "      <td>41</td>\n",
              "      <td>37</td>\n",
              "      <td>73</td>\n",
              "      <td>E</td>\n",
              "    </tr>\n",
              "    <tr>\n",
              "      <th>1</th>\n",
              "      <td>38</td>\n",
              "      <td>51</td>\n",
              "      <td>22</td>\n",
              "      <td>N</td>\n",
              "    </tr>\n",
              "    <tr>\n",
              "      <th>2</th>\n",
              "      <td>66</td>\n",
              "      <td>13</td>\n",
              "      <td>61</td>\n",
              "      <td>C</td>\n",
              "    </tr>\n",
              "    <tr>\n",
              "      <th>3</th>\n",
              "      <td>80</td>\n",
              "      <td>46</td>\n",
              "      <td>76</td>\n",
              "      <td>E</td>\n",
              "    </tr>\n",
              "    <tr>\n",
              "      <th>4</th>\n",
              "      <td>79</td>\n",
              "      <td>69</td>\n",
              "      <td>83</td>\n",
              "      <td>E</td>\n",
              "    </tr>\n",
              "  </tbody>\n",
              "</table>\n",
              "</div>"
            ],
            "text/plain": [
              "   Lottery  Literacy  Wealth Region\n",
              "0       41        37      73      E\n",
              "1       38        51      22      N\n",
              "2       66        13      61      C\n",
              "3       80        46      76      E\n",
              "4       79        69      83      E"
            ]
          },
          "execution_count": 83,
          "metadata": {},
          "output_type": "execute_result"
        }
      ]
    },
    {
      "cell_type": "code",
      "metadata": {
        "id": "dd72666e",
        "outputId": "86cb6aa4-47dd-4f8c-bd2a-3e6d286b73f2"
      },
      "source": [
        "len(df)"
      ],
      "id": "dd72666e",
      "execution_count": null,
      "outputs": [
        {
          "data": {
            "text/plain": [
              "85"
            ]
          },
          "execution_count": 86,
          "metadata": {},
          "output_type": "execute_result"
        }
      ]
    },
    {
      "cell_type": "code",
      "metadata": {
        "id": "455bea6f",
        "outputId": "f9c42791-f8d1-427b-a996-244ce8589bef"
      },
      "source": [
        "df.Region.value_counts()"
      ],
      "id": "455bea6f",
      "execution_count": null,
      "outputs": [
        {
          "data": {
            "text/plain": [
              "C    17\n",
              "S    17\n",
              "W    17\n",
              "N    17\n",
              "E    17\n",
              "Name: Region, dtype: int64"
            ]
          },
          "execution_count": 90,
          "metadata": {},
          "output_type": "execute_result"
        }
      ]
    },
    {
      "cell_type": "markdown",
      "metadata": {
        "id": "f6001e65"
      },
      "source": [
        "## Terms in summary:\n",
        "\n",
        "* Df Residuals: n-k-1 (no_of_obs - no_of_variables -1)\n",
        "* Covariance\n",
        "* R square -> most important (what percenatge)\n",
        "    * Property of linear regression - adding more variables will not reduce r-squared, will keep it same or incraese it\n",
        "* Adjusted r-squared will penalize r squared that some variables are not contributing\n",
        "* F-statistic - checks for statistical significanse of your entire group of variables and validates null hypo\n",
        "* Log-Likelihood - \n",
        "* AIC-BIC : Used for feature selection \n"
      ],
      "id": "f6001e65"
    },
    {
      "cell_type": "code",
      "metadata": {
        "id": "f12d6ac5",
        "outputId": "793f8499-26e1-457f-8b9c-282a114fa69f"
      },
      "source": [
        "mod = smf.ols(formula='Lottery ~ Literacy + Wealth + Region', data=df) \n",
        "#formula = 'dependant_variables ~ comibantion of independent variables'\n",
        "res = mod.fit()\n",
        "print(res.summary())"
      ],
      "id": "f12d6ac5",
      "execution_count": null,
      "outputs": [
        {
          "name": "stdout",
          "output_type": "stream",
          "text": [
            "                            OLS Regression Results                            \n",
            "==============================================================================\n",
            "Dep. Variable:                Lottery   R-squared:                       0.338\n",
            "Model:                            OLS   Adj. R-squared:                  0.287\n",
            "Method:                 Least Squares   F-statistic:                     6.636\n",
            "Date:                Sun, 08 Aug 2021   Prob (F-statistic):           1.07e-05\n",
            "Time:                        12:58:19   Log-Likelihood:                -375.30\n",
            "No. Observations:                  85   AIC:                             764.6\n",
            "Df Residuals:                      78   BIC:                             781.7\n",
            "Df Model:                           6                                         \n",
            "Covariance Type:            nonrobust                                         \n",
            "===============================================================================\n",
            "                  coef    std err          t      P>|t|      [0.025      0.975]\n",
            "-------------------------------------------------------------------------------\n",
            "Intercept      38.6517      9.456      4.087      0.000      19.826      57.478\n",
            "Region[T.E]   -15.4278      9.727     -1.586      0.117     -34.793       3.938\n",
            "Region[T.N]   -10.0170      9.260     -1.082      0.283     -28.453       8.419\n",
            "Region[T.S]    -4.5483      7.279     -0.625      0.534     -19.039       9.943\n",
            "Region[T.W]   -10.0913      7.196     -1.402      0.165     -24.418       4.235\n",
            "Literacy       -0.1858      0.210     -0.886      0.378      -0.603       0.232\n",
            "Wealth          0.4515      0.103      4.390      0.000       0.247       0.656\n",
            "==============================================================================\n",
            "Omnibus:                        3.049   Durbin-Watson:                   1.785\n",
            "Prob(Omnibus):                  0.218   Jarque-Bera (JB):                2.694\n",
            "Skew:                          -0.340   Prob(JB):                        0.260\n",
            "Kurtosis:                       2.454   Cond. No.                         371.\n",
            "==============================================================================\n",
            "\n",
            "Notes:\n",
            "[1] Standard Errors assume that the covariance matrix of the errors is correctly specified.\n"
          ]
        }
      ]
    },
    {
      "cell_type": "code",
      "metadata": {
        "id": "698955df",
        "outputId": "ac078a08-5fda-4dbf-c9fb-288cf0ddb1db"
      },
      "source": [
        "res = smf.ols(formula='Lottery ~ Literacy + Wealth + C(Region)', data=df).fit()\n",
        "print(res.params)"
      ],
      "id": "698955df",
      "execution_count": null,
      "outputs": [
        {
          "name": "stdout",
          "output_type": "stream",
          "text": [
            "Intercept         38.651655\n",
            "C(Region)[T.E]   -15.427785\n",
            "C(Region)[T.N]   -10.016961\n",
            "C(Region)[T.S]    -4.548257\n",
            "C(Region)[T.W]   -10.091276\n",
            "Literacy          -0.185819\n",
            "Wealth             0.451475\n",
            "dtype: float64\n"
          ]
        }
      ]
    },
    {
      "cell_type": "code",
      "metadata": {
        "id": "88ee2f4f"
      },
      "source": [
        ""
      ],
      "id": "88ee2f4f",
      "execution_count": null,
      "outputs": []
    }
  ]
}