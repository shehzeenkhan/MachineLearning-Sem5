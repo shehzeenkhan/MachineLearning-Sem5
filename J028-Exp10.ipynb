{
  "nbformat": 4,
  "nbformat_minor": 5,
  "metadata": {
    "kernelspec": {
      "display_name": "Python 3",
      "language": "python",
      "name": "python3"
    },
    "language_info": {
      "codemirror_mode": {
        "name": "ipython",
        "version": 3
      },
      "file_extension": ".py",
      "mimetype": "text/x-python",
      "name": "python",
      "nbconvert_exporter": "python",
      "pygments_lexer": "ipython3",
      "version": "3.8.0"
    },
    "colab": {
      "name": "J078_ML_Assignment_10.ipynb",
      "provenance": [],
      "collapsed_sections": []
    }
  },
  "cells": [
    {
      "cell_type": "markdown",
      "metadata": {
        "id": "53a7e2a8"
      },
      "source": [
        "# Experiment 10: KNN \n",
        "Shehzeen Khan, J028\n",
        "B.Tech Data Science, Semester 5"
      ],
      "id": "53a7e2a8"
    },
    {
      "cell_type": "markdown",
      "metadata": {
        "id": "f7b6be4a"
      },
      "source": [
        "#### Importing Libraries"
      ],
      "id": "f7b6be4a"
    },
    {
      "cell_type": "code",
      "metadata": {
        "id": "666fb43f"
      },
      "source": [
        "import numpy as np\n",
        "import pandas as pd\n",
        "from sklearn import datasets\n",
        "from collections import Counter"
      ],
      "id": "666fb43f",
      "execution_count": null,
      "outputs": []
    },
    {
      "cell_type": "code",
      "metadata": {
        "id": "0df13574",
        "outputId": "03c137ce-7c59-4efb-b812-6e1d2cfefbec"
      },
      "source": [
        "iris = datasets.load_iris()\n",
        "Species = iris.target\n",
        "data = pd.DataFrame(np.c_[iris.data, Species.reshape((Species.shape[0],1))], columns = iris.feature_names + ['Species'])\n",
        "data.head()"
      ],
      "id": "0df13574",
      "execution_count": null,
      "outputs": [
        {
          "data": {
            "text/html": [
              "<div>\n",
              "<style scoped>\n",
              "    .dataframe tbody tr th:only-of-type {\n",
              "        vertical-align: middle;\n",
              "    }\n",
              "\n",
              "    .dataframe tbody tr th {\n",
              "        vertical-align: top;\n",
              "    }\n",
              "\n",
              "    .dataframe thead th {\n",
              "        text-align: right;\n",
              "    }\n",
              "</style>\n",
              "<table border=\"1\" class=\"dataframe\">\n",
              "  <thead>\n",
              "    <tr style=\"text-align: right;\">\n",
              "      <th></th>\n",
              "      <th>sepal length (cm)</th>\n",
              "      <th>sepal width (cm)</th>\n",
              "      <th>petal length (cm)</th>\n",
              "      <th>petal width (cm)</th>\n",
              "      <th>Species</th>\n",
              "    </tr>\n",
              "  </thead>\n",
              "  <tbody>\n",
              "    <tr>\n",
              "      <th>0</th>\n",
              "      <td>5.1</td>\n",
              "      <td>3.5</td>\n",
              "      <td>1.4</td>\n",
              "      <td>0.2</td>\n",
              "      <td>0.0</td>\n",
              "    </tr>\n",
              "    <tr>\n",
              "      <th>1</th>\n",
              "      <td>4.9</td>\n",
              "      <td>3.0</td>\n",
              "      <td>1.4</td>\n",
              "      <td>0.2</td>\n",
              "      <td>0.0</td>\n",
              "    </tr>\n",
              "    <tr>\n",
              "      <th>2</th>\n",
              "      <td>4.7</td>\n",
              "      <td>3.2</td>\n",
              "      <td>1.3</td>\n",
              "      <td>0.2</td>\n",
              "      <td>0.0</td>\n",
              "    </tr>\n",
              "    <tr>\n",
              "      <th>3</th>\n",
              "      <td>4.6</td>\n",
              "      <td>3.1</td>\n",
              "      <td>1.5</td>\n",
              "      <td>0.2</td>\n",
              "      <td>0.0</td>\n",
              "    </tr>\n",
              "    <tr>\n",
              "      <th>4</th>\n",
              "      <td>5.0</td>\n",
              "      <td>3.6</td>\n",
              "      <td>1.4</td>\n",
              "      <td>0.2</td>\n",
              "      <td>0.0</td>\n",
              "    </tr>\n",
              "  </tbody>\n",
              "</table>\n",
              "</div>"
            ],
            "text/plain": [
              "   sepal length (cm)  sepal width (cm)  petal length (cm)  petal width (cm)  \\\n",
              "0                5.1               3.5                1.4               0.2   \n",
              "1                4.9               3.0                1.4               0.2   \n",
              "2                4.7               3.2                1.3               0.2   \n",
              "3                4.6               3.1                1.5               0.2   \n",
              "4                5.0               3.6                1.4               0.2   \n",
              "\n",
              "   Species  \n",
              "0      0.0  \n",
              "1      0.0  \n",
              "2      0.0  \n",
              "3      0.0  \n",
              "4      0.0  "
            ]
          },
          "execution_count": 20,
          "metadata": {},
          "output_type": "execute_result"
        }
      ]
    },
    {
      "cell_type": "code",
      "metadata": {
        "id": "f167cb33",
        "outputId": "da2a9764-5f07-4fca-8561-d3a23dca2c8f"
      },
      "source": [
        "data['Species'].value_counts()"
      ],
      "id": "f167cb33",
      "execution_count": null,
      "outputs": [
        {
          "data": {
            "text/plain": [
              "2.0    50\n",
              "1.0    50\n",
              "0.0    50\n",
              "Name: Species, dtype: int64"
            ]
          },
          "execution_count": 21,
          "metadata": {},
          "output_type": "execute_result"
        }
      ]
    },
    {
      "cell_type": "markdown",
      "metadata": {
        "id": "cae7e0b3"
      },
      "source": [
        "#### Using K-Nearest Neighbour function"
      ],
      "id": "cae7e0b3"
    },
    {
      "cell_type": "code",
      "metadata": {
        "id": "5dedf969"
      },
      "source": [
        "from sklearn.model_selection import train_test_split\n",
        "train, test = train_test_split(data, test_size = 0.2, random_state = 0)"
      ],
      "id": "5dedf969",
      "execution_count": null,
      "outputs": []
    },
    {
      "cell_type": "code",
      "metadata": {
        "id": "2bfc0681"
      },
      "source": [
        "class knn():\n",
        "    def __init__(self,X, Y, k_neighbors):\n",
        "        self.k_neighbors = k_neighbors\n",
        "        self.X_train = X\n",
        "        self.Y_train = Y\n",
        "        self.target = set(Y)\n",
        "\n",
        " # calculating euclidean distance\n",
        "    def euclidean_distance(self,row1,row2):\n",
        "        distance = 0.0\n",
        "        for i in range(len(row1)):\n",
        "            distance += (row1[i]-row2[i])**2\n",
        "        return np.sqrt(distance)\n",
        "\n",
        "    def sort_distance(self,r):\n",
        "        return r[2]\n",
        "\n",
        "    def get_neighbors(self,row):\n",
        "        dist = []\n",
        "        for row_index in range(len(self.X_train)):\n",
        "            d = self.euclidean_distance(self.X_train.iloc[row_index,:], row)\n",
        "            dist.append((self.X_train.iloc[row_index,:],self.Y_train.iloc[row_index],d))\n",
        "        dist.sort(key = self.sort_distance)\n",
        "\n",
        "        neighbors = []\n",
        "        for i in range(self.k_neighbors):\n",
        "            neighbors.append(dist[i][1])\n",
        "        return neighbors\n",
        "\n",
        "    def predict(self,row):\n",
        "        neigh = self.get_neighbors(row)\n",
        "        neighbors = Counter(neigh)\n",
        "        count = 0\n",
        "        pred = \"\"\n",
        "        for i in self.target:\n",
        "            if neighbors[i]>count:\n",
        "                count = neighbors[i]\n",
        "                pred = i\n",
        "        return pred\n",
        "    "
      ],
      "id": "2bfc0681",
      "execution_count": null,
      "outputs": []
    },
    {
      "cell_type": "code",
      "metadata": {
        "id": "043b77a5",
        "outputId": "f17390f0-ae0b-4f1b-e467-b2d37e803c31"
      },
      "source": [
        "Y = train['Species']\n",
        "X = train.drop('Species',axis = 1)\n",
        "clf = knn(X, Y, 5)\n",
        "X.loc[0,:]"
      ],
      "id": "043b77a5",
      "execution_count": null,
      "outputs": [
        {
          "data": {
            "text/plain": [
              "sepal length (cm)    5.1\n",
              "sepal width (cm)     3.5\n",
              "petal length (cm)    1.4\n",
              "petal width (cm)     0.2\n",
              "Name: 0, dtype: float64"
            ]
          },
          "execution_count": 24,
          "metadata": {},
          "output_type": "execute_result"
        }
      ]
    },
    {
      "cell_type": "code",
      "metadata": {
        "id": "c7f67531"
      },
      "source": [
        "predictions = []\n",
        "Y_test = test['Species']\n",
        "X_test = test.drop('Species',axis = 1)\n",
        "for row in range(len(X_test)):\n",
        "    pred = clf.predict(X_test.iloc[row,:])\n",
        "    predictions.append(pred)"
      ],
      "id": "c7f67531",
      "execution_count": null,
      "outputs": []
    },
    {
      "cell_type": "code",
      "metadata": {
        "id": "5cbaa3da",
        "outputId": "c24dc361-2c97-467b-f7f8-96cda90a944a"
      },
      "source": [
        "from sklearn.metrics import accuracy_score\n",
        "accuracy_score(Y_test,predictions)"
      ],
      "id": "5cbaa3da",
      "execution_count": null,
      "outputs": [
        {
          "data": {
            "text/plain": [
              "0.9666666666666667"
            ]
          },
          "execution_count": 26,
          "metadata": {},
          "output_type": "execute_result"
        }
      ]
    },
    {
      "cell_type": "markdown",
      "metadata": {
        "id": "6ef2f431"
      },
      "source": [
        "#### Using K-Nearest Neighbour in Scikit Learn"
      ],
      "id": "6ef2f431"
    },
    {
      "cell_type": "code",
      "metadata": {
        "id": "73c75af4",
        "outputId": "5179df0d-8d6e-4334-faa5-6fc1236f11f0"
      },
      "source": [
        "from sklearn.neighbors import KNeighborsClassifier\n",
        "neigh = KNeighborsClassifier(n_neighbors=3)\n",
        "neigh.fit(X,Y)\n",
        "pred1=neigh.predict(X_test)\n",
        "accuracy_score(Y_test,pred1)"
      ],
      "id": "73c75af4",
      "execution_count": null,
      "outputs": [
        {
          "data": {
            "text/plain": [
              "0.9666666666666667"
            ]
          },
          "execution_count": 27,
          "metadata": {},
          "output_type": "execute_result"
        }
      ]
    },
    {
      "cell_type": "code",
      "metadata": {
        "id": "552b947e"
      },
      "source": [
        ""
      ],
      "id": "552b947e",
      "execution_count": null,
      "outputs": []
    }
  ]
}