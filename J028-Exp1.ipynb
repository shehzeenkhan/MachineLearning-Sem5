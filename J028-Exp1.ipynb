{
  "nbformat": 4,
  "nbformat_minor": 0,
  "metadata": {
    "colab": {
      "name": "ML Assignment.ipynb",
      "provenance": []
    },
    "kernelspec": {
      "name": "python3",
      "display_name": "Python 3"
    },
    "language_info": {
      "name": "python"
    }
  },
  "cells": [
    {
      "cell_type": "markdown",
      "metadata": {
        "id": "IvqLC90RH-6h"
      },
      "source": [
        "# EXP 1: ML\n",
        "Shehzeen Khan, J028\n",
        "B.Tech Data Science, Semester 5"
      ]
    },
    {
      "cell_type": "markdown",
      "metadata": {
        "id": "VsOVGE9de3yd"
      },
      "source": [
        "##day 0"
      ]
    },
    {
      "cell_type": "markdown",
      "metadata": {
        "id": "98DAJLcxH90C"
      },
      "source": [
        ""
      ]
    },
    {
      "cell_type": "code",
      "metadata": {
        "colab": {
          "base_uri": "https://localhost:8080/"
        },
        "id": "PqO2XYyHeo1y",
        "outputId": "d50073cc-9899-432c-8789-f2d046f83737"
      },
      "source": [
        "input_string = input()"
      ],
      "execution_count": null,
      "outputs": [
        {
          "output_type": "stream",
          "text": [
            "Hello,World.\n"
          ],
          "name": "stdout"
        }
      ]
    },
    {
      "cell_type": "code",
      "metadata": {
        "colab": {
          "base_uri": "https://localhost:8080/"
        },
        "id": "PCqfpq1iey_F",
        "outputId": "51196ae4-a022-4419-f13e-c30f14c091a5"
      },
      "source": [
        "print(input_string)"
      ],
      "execution_count": null,
      "outputs": [
        {
          "output_type": "stream",
          "text": [
            "Hello,World.\n"
          ],
          "name": "stdout"
        }
      ]
    },
    {
      "cell_type": "markdown",
      "metadata": {
        "id": "Ixd5PqiFe9_O"
      },
      "source": [
        "##day 1:Data Types"
      ]
    },
    {
      "cell_type": "code",
      "metadata": {
        "id": "0DmLsnENJevN"
      },
      "source": [
        "#initialising the 3 variables(integer,double and string)\n",
        "i=19\n",
        "d=3.0\n",
        "s=\"data science\""
      ],
      "execution_count": null,
      "outputs": []
    },
    {
      "cell_type": "code",
      "metadata": {
        "colab": {
          "base_uri": "https://localhost:8080/"
        },
        "id": "g1dIbxoMe_TH",
        "outputId": "a6a352c8-797c-442a-ed7d-4f8d52cedbc5"
      },
      "source": [
        "#Read 3 lines of input from stdin\n",
        "i_new = int(input())\n",
        "d_new = float(input())\n",
        "s_new = input()"
      ],
      "execution_count": null,
      "outputs": [
        {
          "output_type": "stream",
          "text": [
            "3\n",
            "2.0\n",
            "machine learning\n"
          ],
          "name": "stdout"
        }
      ]
    },
    {
      "cell_type": "code",
      "metadata": {
        "colab": {
          "base_uri": "https://localhost:8080/"
        },
        "id": "2PKY7tb_JR08",
        "outputId": "29506260-00d9-4e74-f8fd-199fa4735335"
      },
      "source": [
        "#Use the '+'  operator to perform the following operations:\n",
        "#Print the sum of i plus your int variable on a new line.\n",
        "#Print the sum of d plus your double variable to a scale of one decimal place on a new line.\n",
        "#Concatenate  with the string you read as input and print the result on a new line.\n",
        "print(f'(i) {i+i_new}')\n",
        "print(f'(ii) {round(d+d_new,1)}')\n",
        "print(f'(iii) {s + s_new}')\n"
      ],
      "execution_count": null,
      "outputs": [
        {
          "output_type": "stream",
          "text": [
            "(i) 22\n",
            "(ii) 5.0\n",
            "(iii) data sciencemachine learning\n"
          ],
          "name": "stdout"
        }
      ]
    },
    {
      "cell_type": "markdown",
      "metadata": {
        "id": "2Yz46oXeM5Yt"
      },
      "source": [
        "##day 2: Operators\n",
        "Given the meal price (base cost of a meal), tip percent (the percentage of the meal price being added as tip), and tax percent (thepercentage of the meal price being added as tax) for a meal, find and print the meal's total cost. Round the result to the nearest integer"
      ]
    },
    {
      "cell_type": "code",
      "metadata": {
        "colab": {
          "base_uri": "https://localhost:8080/"
        },
        "id": "zP_o4ZY6M4im",
        "outputId": "231fce25-ca2a-4b39-f041-92914ab2cc47"
      },
      "source": [
        "meal_cost = 749.99\n",
        "tip_percentage = 15\n",
        "tax_percentage = 20\n",
        "total_cost = (meal_cost*tip_percentage/100)+(tax_percentage*meal_cost/100)+meal_cost\n",
        "print('total cost of the meal was:',round(int(total_cost)))"
      ],
      "execution_count": null,
      "outputs": [
        {
          "output_type": "stream",
          "text": [
            "total cost of the meal was: 1012\n"
          ],
          "name": "stdout"
        }
      ]
    },
    {
      "cell_type": "markdown",
      "metadata": {
        "id": "09Z2rUOoP11p"
      },
      "source": [
        "##Day 3:Intro to Conditional Statements\n"
      ]
    },
    {
      "cell_type": "code",
      "metadata": {
        "colab": {
          "base_uri": "https://localhost:8080/"
        },
        "id": "pB3s274BRF_2",
        "outputId": "f80cc072-fe73-4d5c-8f54-7f809c65fae9"
      },
      "source": [
        "import sys\n",
        "\n",
        "\n",
        "n = int(input().strip())\n",
        "\n",
        "# if number is odd\n",
        "if n%2==1:\n",
        "    answer = \"Weird\"\n",
        "#if number is even and greater than 20\n",
        "elif n>20:\n",
        "    answer = \"Not Weird\"\n",
        "#if number is even and in the inclusive range of 6 to 20\n",
        "elif n>=6:\n",
        "    answer = \"Weird\"\n",
        "#if number is ven and in the inclusive range of 2 to 5\n",
        "else:\n",
        "    answer = \"Not Weird\"\n",
        "\n",
        "print(answer)"
      ],
      "execution_count": null,
      "outputs": [
        {
          "output_type": "stream",
          "text": [
            "23\n",
            "Weird\n"
          ],
          "name": "stdout"
        }
      ]
    },
    {
      "cell_type": "markdown",
      "metadata": {
        "id": "_c7QDTNCR87z"
      },
      "source": [
        "##Day 4:Class vs. Instance\n",
        "\n",
        "Write a Person class with an instance variable, age, and a constructor that takes an integer, initialAge, as a parameter.\n",
        "\n",
        " The constructor must assign initialAge to Age after confirming the \n",
        "argument passed as initialAge is not negative;\n",
        "\n",
        " if a negative argument is passed as initialAge, theconstructor should set age to 0 and print Age is not valid, setting age to 0..\n",
        " \n",
        "  In addition, you must write the following instance methods:yearPasses() should increase the instance variable by 1.\n",
        "  \n",
        "  amIOld() should perform the following conditional actions:If , print You are young..If and , print You are a teenager..Otherwise, print You are old."
      ]
    },
    {
      "cell_type": "code",
      "metadata": {
        "colab": {
          "base_uri": "https://localhost:8080/"
        },
        "id": "n_n8NrNVbN3R",
        "outputId": "5f8da790-5e83-4efd-ec86-dadddab1e4a6"
      },
      "source": [
        "\n",
        "class Person:\n",
        "    def __init__(self,initialAge):\n",
        "        \n",
        "        if(initialAge > 0):\n",
        "            self.age = initialAge\n",
        "        else:\n",
        "            print(\"Age is not valid, setting age to 0.\")\n",
        "            self.age = 0\n",
        "\n",
        "    def amIOld(self):\n",
        "        \n",
        "        if self.age >= 18:\n",
        "            print(\"You are old.\")\n",
        "        elif self.age >= 13:\n",
        "            print(\"You are a teenager.\")\n",
        "        else: # age < 13\n",
        "            print(\"You are young.\")\n",
        "\n",
        "    def yearPasses(self):\n",
        "       \n",
        "        self.age += 1\n",
        "\n",
        "for f in range(3):\n",
        "  initial_age=int(input('Enter Age: '))\n",
        "  person=Person(initial_age)\n",
        "  person.amIOld()\n",
        "  person.yearPasses()\n",
        "  person.amIOld()\n",
        "\n"
      ],
      "execution_count": null,
      "outputs": [
        {
          "output_type": "stream",
          "text": [
            "Enter Age: 17\n",
            "You are a teenager.\n",
            "You are old.\n",
            "Enter Age: -78\n",
            "Age is not valid, setting age to 0.\n",
            "You are young.\n",
            "You are young.\n",
            "Enter Age: 69\n",
            "You are old.\n",
            "You are old.\n"
          ],
          "name": "stdout"
        }
      ]
    },
    {
      "cell_type": "markdown",
      "metadata": {
        "id": "ln1-K91ucO7d"
      },
      "source": [
        "##Day 5:\n",
        "Given an integer, n, print its first 10 multiples."
      ]
    },
    {
      "cell_type": "code",
      "metadata": {
        "colab": {
          "base_uri": "https://localhost:8080/"
        },
        "id": "lUBdRcw2cqzU",
        "outputId": "efb2eb03-2932-4330-a89b-e95761d49ec2"
      },
      "source": [
        "n = int(input())\n",
        "\n",
        "for i in range(1,11):\n",
        "  print(f'{n} x {i} = {n*i}')"
      ],
      "execution_count": null,
      "outputs": [
        {
          "output_type": "stream",
          "text": [
            "33\n",
            "33 x 1 = 33\n",
            "33 x 2 = 66\n",
            "33 x 3 = 99\n",
            "33 x 4 = 132\n",
            "33 x 5 = 165\n",
            "33 x 6 = 198\n",
            "33 x 7 = 231\n",
            "33 x 8 = 264\n",
            "33 x 9 = 297\n",
            "33 x 10 = 330\n"
          ],
          "name": "stdout"
        }
      ]
    },
    {
      "cell_type": "markdown",
      "metadata": {
        "id": "-0QmVcJ3dSEb"
      },
      "source": [
        "##day 6:\n",
        "Given a string, s, of length N that is indexed from 0 to N-1, print its even-indexed and odd-indexed characters as 2 space-separated strings on a single line "
      ]
    },
    {
      "cell_type": "code",
      "metadata": {
        "colab": {
          "base_uri": "https://localhost:8080/"
        },
        "id": "kz7SPVjCdNdH",
        "outputId": "7bba5770-d733-4d26-f213-441c8d4ad3b1"
      },
      "source": [
        "import sys\n",
        "\n",
        "def printEvenIndexChar(s):\n",
        "    l = len(s)\n",
        "    output = \"\"\n",
        "    for i in range(0,l,2):\n",
        "        output += s[i]\n",
        "    return output\n",
        "\n",
        "def printOddIndexChar(s):\n",
        "    l = len(s)\n",
        "    output = \"\"\n",
        "    for i in range(1,l,2):\n",
        "        output += s[i]\n",
        "    return output\n",
        "\n",
        "t = int(input())\n",
        "for a0 in range(0,t):\n",
        "    s = input()\n",
        "    print(printEvenIndexChar(s)+ \" \"  + printOddIndexChar(s))"
      ],
      "execution_count": null,
      "outputs": [
        {
          "output_type": "stream",
          "text": [
            "2\n",
            "sci-fi\n",
            "sif c-i\n",
            "happy man\n",
            "hpymn ap a\n"
          ],
          "name": "stdout"
        }
      ]
    },
    {
      "cell_type": "markdown",
      "metadata": {
        "id": "_jHETUeG6WDq"
      },
      "source": [
        "##Day 7:Arrays\n",
        "\n"
      ]
    },
    {
      "cell_type": "code",
      "metadata": {
        "colab": {
          "base_uri": "https://localhost:8080/"
        },
        "id": "QfXZY1198oAA",
        "outputId": "14eab43b-a45b-491f-e2b1-7f2bfe84bcf7"
      },
      "source": [
        "A=[0,1,2,3,4,5,6,7,8,9]\n",
        "for i in A[::-1]: \n",
        "  print(i,end=\" \")\n",
        "  "
      ],
      "execution_count": null,
      "outputs": [
        {
          "output_type": "stream",
          "text": [
            "9 8 7 6 5 4 3 2 1 0 "
          ],
          "name": "stdout"
        }
      ]
    },
    {
      "cell_type": "markdown",
      "metadata": {
        "id": "1kDOiiiT9LNQ"
      },
      "source": [
        "##Day 8:"
      ]
    },
    {
      "cell_type": "code",
      "metadata": {
        "colab": {
          "base_uri": "https://localhost:8080/"
        },
        "id": "3E5R8mX0_tfe",
        "outputId": "e85ae8d1-a35a-43ad-ef86-db4c78353d9a"
      },
      "source": [
        "phonebook={}\n",
        "for i in range(int(input('>>>'))):\n",
        "  inp=input().split()\n",
        "  phonebook[inp[0]]=inp[1]\n",
        "q=input('Query: ')\n",
        "while q !=\"\":\n",
        "  try:\n",
        "    print(f'{q}={phonebook[q]}')\n",
        "  except:\n",
        "      print('Not Found!')\n",
        "      q = input('Query:')\n",
        "      break"
      ],
      "execution_count": null,
      "outputs": [
        {
          "output_type": "stream",
          "text": [
            ">>>1\n",
            "jeff 2233\n",
            "Query: jose 3535\n",
            "Not Found!\n",
            "Query:jeff 2233\n"
          ],
          "name": "stdout"
        }
      ]
    },
    {
      "cell_type": "markdown",
      "metadata": {
        "id": "yIe9rgoCA4kg"
      },
      "source": [
        "##Day 9:"
      ]
    },
    {
      "cell_type": "code",
      "metadata": {
        "colab": {
          "base_uri": "https://localhost:8080/"
        },
        "id": "SKDtp7VTA7Nf",
        "outputId": "601e5980-52a6-4e25-8401-f3343cc69978"
      },
      "source": [
        "def rec_fact(n):\n",
        "  if n == 0 or n == 1:\n",
        "    return 1\n",
        "  else:\n",
        "      return n*rec_fact(n-1)\n",
        "print(rec_fact(int(input('>>>'))))"
      ],
      "execution_count": null,
      "outputs": [
        {
          "output_type": "stream",
          "text": [
            ">>>6\n",
            "720\n"
          ],
          "name": "stdout"
        }
      ]
    },
    {
      "cell_type": "markdown",
      "metadata": {
        "id": "q7rPZKRsBbbu"
      },
      "source": [
        "Day:10"
      ]
    },
    {
      "cell_type": "code",
      "metadata": {
        "id": "VFPMQI1jCasP"
      },
      "source": [
        "n = int(input('>>>'))\n",
        "binary = ''\n",
        "while n > 0:\n",
        "  binary = str(n % 2) + binary\n",
        "n //= 2\n",
        "print(max([len(i) for i in binary.split('0')]))"
      ],
      "execution_count": null,
      "outputs": []
    },
    {
      "cell_type": "markdown",
      "metadata": {
        "id": "Gf3myhIKB-dK"
      },
      "source": [
        "##DAY 11"
      ]
    },
    {
      "cell_type": "code",
      "metadata": {
        "id": "zhmAfG_lCUf1"
      },
      "source": [
        "import sys\n",
        "\n",
        "\n",
        "arr = []\n",
        "for arr_i in range(6):\n",
        "   arr_temp = list(map(int,input().strip().split(' ')))\n",
        "   arr.append(arr_temp)\n",
        "max = 0\n",
        "\n",
        "for i in range(0,4):\n",
        "    for j in range(0,4):\n",
        "        sum = 0\n",
        "        sum= arr[i][j]+arr[i][j+1]+arr[i][j+2]+arr[i+1][j+1]+arr[i+2][j]+arr[i+2][j+1]+arr[i+2][j+2]\n",
        "        if i==0 and j==0:\n",
        "            max = sum\n",
        "        if sum > max:\n",
        "            max =sum\n",
        "\n",
        "print(max)"
      ],
      "execution_count": null,
      "outputs": []
    },
    {
      "cell_type": "markdown",
      "metadata": {
        "id": "CxJG8U-LCVb2"
      },
      "source": [
        "##Day 12"
      ]
    },
    {
      "cell_type": "code",
      "metadata": {
        "id": "c13BmNTlChR5"
      },
      "source": [
        "class Student:\n",
        "  def __init__(self,  first_name,  last_name,  id_number,  scores):\n",
        "     self.first_name = first_name\n",
        "     self.last_name = last_name \n",
        "     self.id_number = id_number \n",
        "     self.scores = scores\n",
        "     def calculate(self):\n",
        "        d = {\n",
        "            'T':40,\n",
        "            'D':55,\n",
        "            'P':70,\n",
        "            'A':80,\n",
        "            'E':90,\n",
        "            'O':100,\n",
        "        }\n",
        "        \n",
        "        avg = sum(self.scores) /len(self.scores)\n",
        "        \n",
        "        for grade, score_threshold in d.items():\n",
        "          if avg < score_threshold:\n",
        "            return grade\n",
        "            karn = Student('Karn', 'Arora', 70091017003, [100, 99, 89, 91])\n",
        "            print(f'Name: {karn.first_name} {karn.last_name}')\n",
        "            print(f'ID: {karn.id_number}')\n",
        "            print(f'Grade: {karn.calculate()}')"
      ],
      "execution_count": null,
      "outputs": []
    },
    {
      "cell_type": "markdown",
      "metadata": {
        "id": "N12Pdhe9DTmX"
      },
      "source": [
        "##Day 13"
      ]
    },
    {
      "cell_type": "code",
      "metadata": {
        "id": "nPeBt43lKuiI"
      },
      "source": [
        "class Book:\n",
        "  def _init_(self, title, author):\n",
        "     self.title =  title \n",
        "     self.author = author\n",
        "class MyBook(Book):\n",
        "  def _init_(self, title, author, price):\n",
        "     Book._init_(self, title, author) \n",
        "     self.price = price\n",
        "  def display(self):\n",
        "       print(f'Title: {self.title}\\nAuthor: {self.author}\\nPrice: {self.price}')\n",
        "my_book1 = Book('Futre','Dave',1499)\n",
        "my_book1.display()"
      ],
      "execution_count": null,
      "outputs": []
    },
    {
      "cell_type": "markdown",
      "metadata": {
        "id": "mGfSxe0OKwxG"
      },
      "source": [
        "##Day 14"
      ]
    },
    {
      "cell_type": "code",
      "metadata": {
        "colab": {
          "base_uri": "https://localhost:8080/"
        },
        "id": "TP_pWq3fKwEE",
        "outputId": "1bc3fede-5e1f-4819-ab98-da686b16ccea"
      },
      "source": [
        "class Difference:\n",
        "   def __init__(self,elements_):\n",
        "     self.elements_ = elements_\n",
        "   def maximum_difference(self):\\\n",
        "    return max(self.elements_)- min(self.elements_)\n",
        "    \n",
        "diff = Difference([1,2,3,4,5,6,7,8,9])\n",
        "diff.maximum_difference()\n",
        "  "
      ],
      "execution_count": null,
      "outputs": [
        {
          "output_type": "execute_result",
          "data": {
            "text/plain": [
              "8"
            ]
          },
          "metadata": {
            "tags": []
          },
          "execution_count": 32
        }
      ]
    },
    {
      "cell_type": "markdown",
      "metadata": {
        "id": "oPPhc1UsOzQj"
      },
      "source": [
        "##Day 15"
      ]
    },
    {
      "cell_type": "code",
      "metadata": {
        "colab": {
          "base_uri": "https://localhost:8080/"
        },
        "id": "AlkME-7mNrYd",
        "outputId": "613ae53f-e0b9-40ea-c0d4-045ceeca0c5b"
      },
      "source": [
        "class Node:\n",
        "    def __init__(self,data):\n",
        "        self.data = data\n",
        "        self.next = None \n",
        "class Solution: \n",
        "    def display(self,head):\n",
        "        current = head\n",
        "        while current:\n",
        "            print(current.data,end=' ')\n",
        "            current = current.next\n",
        "\n",
        "     \n",
        "    def insert(self,head,data): \n",
        "       if head is None:\n",
        "          head = Node(data)\n",
        "       elif head.next is None:\n",
        "          head.next = Node(data)\n",
        "       else: \n",
        "        self.insert(head.next, data)\n",
        "       return head\n",
        "\n",
        "\n",
        "mylist= Solution()\n",
        "T=int(input())\n",
        "head=None\n",
        "for i in range(T):\n",
        "    data=int(input())\n",
        "    head=mylist.insert(head,data)    \n",
        "mylist.display(head);"
      ],
      "execution_count": null,
      "outputs": [
        {
          "output_type": "stream",
          "text": [
            "2\n",
            "3\n",
            "4\n",
            "3 4 "
          ],
          "name": "stdout"
        }
      ]
    },
    {
      "cell_type": "markdown",
      "metadata": {
        "id": "ozFl5oNLQfu3"
      },
      "source": [
        "##Day 16"
      ]
    },
    {
      "cell_type": "code",
      "metadata": {
        "colab": {
          "base_uri": "https://localhost:8080/"
        },
        "id": "QTuMPcaYQj9Q",
        "outputId": "c71d3e61-f1cb-449e-f406-9c91cc3396fd"
      },
      "source": [
        "import sys\n",
        "\n",
        "\n",
        "S = input().strip()\n",
        "try: \n",
        "    r = int(S)\n",
        "    print(r)\n",
        "except ValueError:\n",
        "    print(\"Bad String\")"
      ],
      "execution_count": null,
      "outputs": [
        {
          "output_type": "stream",
          "text": [
            "jaka4\n",
            "Bad String\n"
          ],
          "name": "stdout"
        }
      ]
    },
    {
      "cell_type": "markdown",
      "metadata": {
        "id": "ETadjKj6RPan"
      },
      "source": [
        "##Day 17"
      ]
    },
    {
      "cell_type": "code",
      "metadata": {
        "colab": {
          "base_uri": "https://localhost:8080/"
        },
        "id": "Jjfp3BzcRQ_j",
        "outputId": "0798377d-6cb8-4fbc-e60e-b76fdd353b27"
      },
      "source": [
        "class Calculator(Exception):\n",
        "    def power(self,n,p):\n",
        "        if (n<0 or p<0):\n",
        "            raise Calculator(\"n and p should be non-negative\")\n",
        "        else:\n",
        "            return pow(n,p)\n",
        "myCalculator=Calculator()\n",
        "T=int(input())\n",
        "for i in range(T):\n",
        "    n,p = map(int, input().split())\n",
        "    try:\n",
        "        ans=myCalculator.power(n,p)\n",
        "        print(ans)\n",
        "    except Exception as e:\n",
        "        print(e)   "
      ],
      "execution_count": null,
      "outputs": [
        {
          "output_type": "stream",
          "text": [
            "1\n",
            "23 12\n",
            "21914624432020321\n"
          ],
          "name": "stdout"
        }
      ]
    },
    {
      "cell_type": "markdown",
      "metadata": {
        "id": "VoqYBs4pRr2t"
      },
      "source": [
        "##Day 19"
      ]
    },
    {
      "cell_type": "code",
      "metadata": {
        "colab": {
          "base_uri": "https://localhost:8080/"
        },
        "id": "ATPRJBzxRt3B",
        "outputId": "2b0ccee0-0aa4-4307-e267-3c691f21001c"
      },
      "source": [
        "class AdvancedArithmetic(object):\n",
        "    def divisorSum(n):\n",
        "        raise NotImplementedError\n",
        "\n",
        "class Calculator(AdvancedArithmetic):\n",
        "    def divisorSum(self, n):\n",
        "        s = 0\n",
        "        for i in range(1,n+1):\n",
        "            if (n%i == 0):\n",
        "                s+=i\n",
        "        return s    \n",
        "\n",
        "\n",
        "n = int(input())\n",
        "my_calculator = Calculator()\n",
        "s = my_calculator.divisorSum(n)\n",
        "print(\"I implemented: \" + type(my_calculator).__bases__[0].__name__)\n",
        "print(s)"
      ],
      "execution_count": null,
      "outputs": [
        {
          "output_type": "stream",
          "text": [
            "23\n",
            "I implemented: AdvancedArithmetic\n",
            "24\n"
          ],
          "name": "stdout"
        }
      ]
    },
    {
      "cell_type": "markdown",
      "metadata": {
        "id": "pNeluUrTTQDs"
      },
      "source": [
        "##Day 20"
      ]
    },
    {
      "cell_type": "code",
      "metadata": {
        "colab": {
          "base_uri": "https://localhost:8080/"
        },
        "id": "nXxwBQigTRkn",
        "outputId": "c582f91f-e148-4560-96e0-848f4a5d3fad"
      },
      "source": [
        "import math\n",
        "import os\n",
        "import random\n",
        "import re\n",
        "import sys\n",
        "\n",
        "\n",
        "\n",
        "if __name__ == '__main__':\n",
        "    n = int(input().strip())\n",
        "\n",
        "    a = list(map(int, input().rstrip().split()))\n",
        "\n",
        "    numberOfSwaps = 0\n",
        "for i in range(0,n):\n",
        "    for j in range(0, n-1):\n",
        "        if (a[j] > a[j + 1]):\n",
        "            temp=a[j]\n",
        "            a[j] = a[j+1]\n",
        "            a[j+1] = temp\n",
        "            numberOfSwaps += 1\n",
        "    if (numberOfSwaps == 0):\n",
        "        break\n",
        "print( \"Array is sorted in \" + str(numberOfSwaps) + \" swaps.\" )\n",
        "print( \"First Element: \" + str(a[0]) )\n",
        "print( \"Last Element: \" +  str(a[n-1]) )"
      ],
      "execution_count": null,
      "outputs": [
        {
          "output_type": "stream",
          "text": [
            "2\n",
            "1 2\n",
            "Array is sorted in 0 swaps.\n",
            "First Element: 1\n",
            "Last Element: 2\n"
          ],
          "name": "stdout"
        }
      ]
    },
    {
      "cell_type": "markdown",
      "metadata": {
        "id": "VqYu-Q-NXKOg"
      },
      "source": [
        "##Day 24"
      ]
    },
    {
      "cell_type": "code",
      "metadata": {
        "colab": {
          "base_uri": "https://localhost:8080/"
        },
        "id": "FiEGV78HXLJB",
        "outputId": "4c570285-6cd2-49ad-afd3-c7d08d91d74c"
      },
      "source": [
        "class Node:\n",
        "    def __init__(self,data):\n",
        "        self.data = data\n",
        "        self.next = None \n",
        "class Solution: \n",
        "    def insert(self,head,data):\n",
        "            p = Node(data)           \n",
        "            if head==None:\n",
        "                head=p\n",
        "            elif head.next==None:\n",
        "                head.next=p\n",
        "            else:\n",
        "                start=head\n",
        "                while(start.next!=None):\n",
        "                    start=start.next\n",
        "                start.next=p\n",
        "            return head  \n",
        "    def display(self,head):\n",
        "        current = head\n",
        "        while current:\n",
        "            print(current.data,end=' ')\n",
        "            current = current.next\n",
        "\n",
        "    def removeDuplicates(self,head):\n",
        "        current = head\n",
        "        while (current.next):\n",
        "            if (current.data == current.next.data):\n",
        "                 current.next = current.next.next\n",
        "            else:\n",
        "                current = current.next\n",
        "\n",
        "        return head \n",
        "\n",
        "mylist= Solution()\n",
        "T=int(input())\n",
        "head=None\n",
        "for i in range(T):\n",
        "    data=int(input())\n",
        "    head=mylist.insert(head,data)    \n",
        "head=mylist.removeDuplicates(head)\n",
        "mylist.display(head); "
      ],
      "execution_count": null,
      "outputs": [
        {
          "output_type": "stream",
          "text": [
            "1\n",
            "2\n",
            "2 "
          ],
          "name": "stdout"
        }
      ]
    },
    {
      "cell_type": "markdown",
      "metadata": {
        "id": "uwJykNGxUYtK"
      },
      "source": [
        "##Day 25"
      ]
    },
    {
      "cell_type": "code",
      "metadata": {
        "colab": {
          "base_uri": "https://localhost:8080/"
        },
        "id": "XN-xoHucUaEm",
        "outputId": "b67fd7f8-7aea-44a0-81c1-03c5cf1b2b5a"
      },
      "source": [
        "import math\n",
        "\n",
        "def check_prime(num):\n",
        "    if num is 1:\n",
        "        return \"Not prime\"\n",
        "    sq = int(math.sqrt(num))\n",
        "    for x in range(2, sq+1):\n",
        "        if num % x is 0:\n",
        "            return \"Not prime\"\n",
        "    return \"Prime\"\n",
        "\n",
        "\n",
        "t = int(input())\n",
        "for i in range(t):\n",
        "    number = int(input())\n",
        "    print(check_prime(number))"
      ],
      "execution_count": null,
      "outputs": [
        {
          "output_type": "stream",
          "text": [
            "3\n",
            "49\n",
            "Not prime\n",
            "7\n",
            "Prime\n",
            "5\n",
            "Prime\n"
          ],
          "name": "stdout"
        }
      ]
    },
    {
      "cell_type": "markdown",
      "metadata": {
        "id": "YZ5HwopeYyjh"
      },
      "source": [
        "##Day 26"
      ]
    },
    {
      "cell_type": "code",
      "metadata": {
        "colab": {
          "base_uri": "https://localhost:8080/"
        },
        "id": "s15QXS3QY0LZ",
        "outputId": "1bbe165f-1105-44e2-f595-919b6e97b296"
      },
      "source": [
        "da, ma, ya = input().split(' ')\n",
        "da = int(da)\n",
        "ma = int(ma)\n",
        "ya = int(ya)\n",
        "de, me, ye = input().split(' ')\n",
        "de = int(de)\n",
        "me = int(me)\n",
        "ye = int(ye)\n",
        "fine = 0\n",
        "if(ye==ya):\n",
        "    if(me < ma):\n",
        "        fine = (ma - me) * 500\n",
        "    elif((me == ma) and (de < da)):\n",
        "        fine = (da - de) * 15\n",
        "elif(ye < ya):\n",
        "    fine = 10000\n",
        "\n",
        "print( fine )"
      ],
      "execution_count": null,
      "outputs": [
        {
          "output_type": "stream",
          "text": [
            "23 7 1998\n",
            "15 7 1998\n",
            "120\n"
          ],
          "name": "stdout"
        }
      ]
    },
    {
      "cell_type": "markdown",
      "metadata": {
        "id": "x2VyH_qhZx3_"
      },
      "source": [
        "##Day 28"
      ]
    },
    {
      "cell_type": "code",
      "metadata": {
        "colab": {
          "base_uri": "https://localhost:8080/"
        },
        "id": "7LFOHPTYZzwq",
        "outputId": "9a07ccb4-7f73-4086-f40a-44bc0cd21611"
      },
      "source": [
        "if __name__ == '__main__':\n",
        "  N = int(input().strip())\n",
        "  names=[]\n",
        "\n",
        "  for N_itr in range(N):\n",
        "    i=input().split()\n",
        "    if '@gmail.com' in i[1]:\n",
        "      names.append(i[0])\n",
        "\n",
        "  for name in sorted(names):\n",
        "     print(name)\n"
      ],
      "execution_count": null,
      "outputs": [
        {
          "output_type": "stream",
          "text": [
            "2\n",
            "karn karn@gmail.com\n",
            "papa papay@gmail.com\n",
            "karn\n",
            "papa\n"
          ],
          "name": "stdout"
        }
      ]
    },
    {
      "cell_type": "markdown",
      "metadata": {
        "id": "eX7CoasocRf9"
      },
      "source": [
        "##Day 29"
      ]
    },
    {
      "cell_type": "code",
      "metadata": {
        "id": "JBCIQmSFcS6D"
      },
      "source": [
        "def bitwiseAnd(N, K):\n",
        "  max_possible = K | (K-1)\n",
        "  if max_possible <= N:\n",
        "    return K-1\n",
        "  else:\n",
        "    return K-2  "
      ],
      "execution_count": null,
      "outputs": []
    }
  ]
}